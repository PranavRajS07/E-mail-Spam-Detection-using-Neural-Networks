{
 "cells": [
  {
   "cell_type": "markdown",
   "id": "f38daa7d",
   "metadata": {},
   "source": [
    "# IMPORTING MODULES AND DATASETS"
   ]
  },
  {
   "cell_type": "code",
   "execution_count": 1,
   "id": "fa586b6b",
   "metadata": {},
   "outputs": [],
   "source": [
    "import pandas as pd\n",
    "import numpy as np\n",
    "import matplotlib.pyplot as plt\n",
    "import seaborn as sns\n",
    "import string\n",
    "\n",
    "import tensorflow as tf\n",
    "import nltk\n",
    "from nltk.corpus import stopwords\n",
    "from nltk.tokenize import word_tokenize\n",
    "from sklearn.feature_extraction.text import CountVectorizer\n",
    "from sklearn.feature_extraction.text import TfidfTransformer\n",
    "from sklearn.model_selection import train_test_split\n",
    "from sklearn.metrics import confusion_matrix,classification_report,accuracy_score\n",
    "from tensorflow.keras.preprocessing.text import Tokenizer\n",
    "from tensorflow.keras.preprocessing.sequence import pad_sequences \n",
    "from tensorflow.keras.utils import to_categorical\n",
    "from sklearn.preprocessing import LabelEncoder\n",
    "from tensorflow.keras.layers import Embedding, Dense, Conv1D, Flatten, Input, MaxPooling1D, Lambda\n",
    "from tensorflow.keras import layers, models\n",
    "from wordcloud import WordCloud"
   ]
  },
  {
   "cell_type": "code",
   "execution_count": 2,
   "id": "ae7e072c",
   "metadata": {},
   "outputs": [],
   "source": [
    "file = pd.read_csv(\"C:/Users/nsarr/Downloads/spam mail dataset 2/spam.csv\")\n",
    "df = pd.DataFrame(file)"
   ]
  },
  {
   "cell_type": "code",
   "execution_count": 3,
   "id": "f37bf8fe",
   "metadata": {},
   "outputs": [
    {
     "data": {
      "text/html": [
       "<div>\n",
       "<style scoped>\n",
       "    .dataframe tbody tr th:only-of-type {\n",
       "        vertical-align: middle;\n",
       "    }\n",
       "\n",
       "    .dataframe tbody tr th {\n",
       "        vertical-align: top;\n",
       "    }\n",
       "\n",
       "    .dataframe thead th {\n",
       "        text-align: right;\n",
       "    }\n",
       "</style>\n",
       "<table border=\"1\" class=\"dataframe\">\n",
       "  <thead>\n",
       "    <tr style=\"text-align: right;\">\n",
       "      <th></th>\n",
       "      <th>v1</th>\n",
       "      <th>v2</th>\n",
       "      <th>Unnamed: 2</th>\n",
       "      <th>Unnamed: 3</th>\n",
       "      <th>Unnamed: 4</th>\n",
       "    </tr>\n",
       "  </thead>\n",
       "  <tbody>\n",
       "    <tr>\n",
       "      <th>0</th>\n",
       "      <td>ham</td>\n",
       "      <td>Go until jurong point, crazy.. Available only ...</td>\n",
       "      <td>NaN</td>\n",
       "      <td>NaN</td>\n",
       "      <td>NaN</td>\n",
       "    </tr>\n",
       "    <tr>\n",
       "      <th>1</th>\n",
       "      <td>ham</td>\n",
       "      <td>Ok lar... Joking wif u oni...</td>\n",
       "      <td>NaN</td>\n",
       "      <td>NaN</td>\n",
       "      <td>NaN</td>\n",
       "    </tr>\n",
       "    <tr>\n",
       "      <th>2</th>\n",
       "      <td>spam</td>\n",
       "      <td>Free entry in 2 a wkly comp to win FA Cup fina...</td>\n",
       "      <td>NaN</td>\n",
       "      <td>NaN</td>\n",
       "      <td>NaN</td>\n",
       "    </tr>\n",
       "    <tr>\n",
       "      <th>3</th>\n",
       "      <td>ham</td>\n",
       "      <td>U dun say so early hor... U c already then say...</td>\n",
       "      <td>NaN</td>\n",
       "      <td>NaN</td>\n",
       "      <td>NaN</td>\n",
       "    </tr>\n",
       "    <tr>\n",
       "      <th>4</th>\n",
       "      <td>ham</td>\n",
       "      <td>Nah I don't think he goes to usf, he lives aro...</td>\n",
       "      <td>NaN</td>\n",
       "      <td>NaN</td>\n",
       "      <td>NaN</td>\n",
       "    </tr>\n",
       "    <tr>\n",
       "      <th>...</th>\n",
       "      <td>...</td>\n",
       "      <td>...</td>\n",
       "      <td>...</td>\n",
       "      <td>...</td>\n",
       "      <td>...</td>\n",
       "    </tr>\n",
       "    <tr>\n",
       "      <th>5567</th>\n",
       "      <td>spam</td>\n",
       "      <td>This is the 2nd time we have tried 2 contact u...</td>\n",
       "      <td>NaN</td>\n",
       "      <td>NaN</td>\n",
       "      <td>NaN</td>\n",
       "    </tr>\n",
       "    <tr>\n",
       "      <th>5568</th>\n",
       "      <td>ham</td>\n",
       "      <td>Will �_ b going to esplanade fr home?</td>\n",
       "      <td>NaN</td>\n",
       "      <td>NaN</td>\n",
       "      <td>NaN</td>\n",
       "    </tr>\n",
       "    <tr>\n",
       "      <th>5569</th>\n",
       "      <td>ham</td>\n",
       "      <td>Pity, * was in mood for that. So...any other s...</td>\n",
       "      <td>NaN</td>\n",
       "      <td>NaN</td>\n",
       "      <td>NaN</td>\n",
       "    </tr>\n",
       "    <tr>\n",
       "      <th>5570</th>\n",
       "      <td>ham</td>\n",
       "      <td>The guy did some bitching but I acted like i'd...</td>\n",
       "      <td>NaN</td>\n",
       "      <td>NaN</td>\n",
       "      <td>NaN</td>\n",
       "    </tr>\n",
       "    <tr>\n",
       "      <th>5571</th>\n",
       "      <td>ham</td>\n",
       "      <td>Rofl. Its true to its name</td>\n",
       "      <td>NaN</td>\n",
       "      <td>NaN</td>\n",
       "      <td>NaN</td>\n",
       "    </tr>\n",
       "  </tbody>\n",
       "</table>\n",
       "<p>5572 rows × 5 columns</p>\n",
       "</div>"
      ],
      "text/plain": [
       "        v1                                                 v2 Unnamed: 2  \\\n",
       "0      ham  Go until jurong point, crazy.. Available only ...        NaN   \n",
       "1      ham                      Ok lar... Joking wif u oni...        NaN   \n",
       "2     spam  Free entry in 2 a wkly comp to win FA Cup fina...        NaN   \n",
       "3      ham  U dun say so early hor... U c already then say...        NaN   \n",
       "4      ham  Nah I don't think he goes to usf, he lives aro...        NaN   \n",
       "...    ...                                                ...        ...   \n",
       "5567  spam  This is the 2nd time we have tried 2 contact u...        NaN   \n",
       "5568   ham              Will �_ b going to esplanade fr home?        NaN   \n",
       "5569   ham  Pity, * was in mood for that. So...any other s...        NaN   \n",
       "5570   ham  The guy did some bitching but I acted like i'd...        NaN   \n",
       "5571   ham                         Rofl. Its true to its name        NaN   \n",
       "\n",
       "     Unnamed: 3 Unnamed: 4  \n",
       "0           NaN        NaN  \n",
       "1           NaN        NaN  \n",
       "2           NaN        NaN  \n",
       "3           NaN        NaN  \n",
       "4           NaN        NaN  \n",
       "...         ...        ...  \n",
       "5567        NaN        NaN  \n",
       "5568        NaN        NaN  \n",
       "5569        NaN        NaN  \n",
       "5570        NaN        NaN  \n",
       "5571        NaN        NaN  \n",
       "\n",
       "[5572 rows x 5 columns]"
      ]
     },
     "execution_count": 3,
     "metadata": {},
     "output_type": "execute_result"
    }
   ],
   "source": [
    "df"
   ]
  },
  {
   "cell_type": "code",
   "execution_count": 4,
   "id": "6a067576",
   "metadata": {},
   "outputs": [],
   "source": [
    "df=df.drop(['Unnamed: 2','Unnamed: 3','Unnamed: 4'],axis=1)"
   ]
  },
  {
   "cell_type": "code",
   "execution_count": 5,
   "id": "2fd06981",
   "metadata": {},
   "outputs": [
    {
     "data": {
      "text/plain": [
       "ham     4825\n",
       "spam     747\n",
       "Name: v1, dtype: int64"
      ]
     },
     "execution_count": 5,
     "metadata": {},
     "output_type": "execute_result"
    }
   ],
   "source": [
    "df['v1'].value_counts()"
   ]
  },
  {
   "cell_type": "code",
   "execution_count": 6,
   "id": "af0cd309",
   "metadata": {},
   "outputs": [
    {
     "data": {
      "text/html": [
       "<div>\n",
       "<style scoped>\n",
       "    .dataframe tbody tr th:only-of-type {\n",
       "        vertical-align: middle;\n",
       "    }\n",
       "\n",
       "    .dataframe tbody tr th {\n",
       "        vertical-align: top;\n",
       "    }\n",
       "\n",
       "    .dataframe thead th {\n",
       "        text-align: right;\n",
       "    }\n",
       "</style>\n",
       "<table border=\"1\" class=\"dataframe\">\n",
       "  <thead>\n",
       "    <tr style=\"text-align: right;\">\n",
       "      <th></th>\n",
       "      <th>v1</th>\n",
       "      <th>v2</th>\n",
       "    </tr>\n",
       "  </thead>\n",
       "  <tbody>\n",
       "    <tr>\n",
       "      <th>0</th>\n",
       "      <td>ham</td>\n",
       "      <td>Go until jurong point, crazy.. Available only ...</td>\n",
       "    </tr>\n",
       "    <tr>\n",
       "      <th>1</th>\n",
       "      <td>ham</td>\n",
       "      <td>Ok lar... Joking wif u oni...</td>\n",
       "    </tr>\n",
       "    <tr>\n",
       "      <th>2</th>\n",
       "      <td>spam</td>\n",
       "      <td>Free entry in 2 a wkly comp to win FA Cup fina...</td>\n",
       "    </tr>\n",
       "    <tr>\n",
       "      <th>3</th>\n",
       "      <td>ham</td>\n",
       "      <td>U dun say so early hor... U c already then say...</td>\n",
       "    </tr>\n",
       "    <tr>\n",
       "      <th>4</th>\n",
       "      <td>ham</td>\n",
       "      <td>Nah I don't think he goes to usf, he lives aro...</td>\n",
       "    </tr>\n",
       "    <tr>\n",
       "      <th>...</th>\n",
       "      <td>...</td>\n",
       "      <td>...</td>\n",
       "    </tr>\n",
       "    <tr>\n",
       "      <th>5567</th>\n",
       "      <td>spam</td>\n",
       "      <td>This is the 2nd time we have tried 2 contact u...</td>\n",
       "    </tr>\n",
       "    <tr>\n",
       "      <th>5568</th>\n",
       "      <td>ham</td>\n",
       "      <td>Will �_ b going to esplanade fr home?</td>\n",
       "    </tr>\n",
       "    <tr>\n",
       "      <th>5569</th>\n",
       "      <td>ham</td>\n",
       "      <td>Pity, * was in mood for that. So...any other s...</td>\n",
       "    </tr>\n",
       "    <tr>\n",
       "      <th>5570</th>\n",
       "      <td>ham</td>\n",
       "      <td>The guy did some bitching but I acted like i'd...</td>\n",
       "    </tr>\n",
       "    <tr>\n",
       "      <th>5571</th>\n",
       "      <td>ham</td>\n",
       "      <td>Rofl. Its true to its name</td>\n",
       "    </tr>\n",
       "  </tbody>\n",
       "</table>\n",
       "<p>5572 rows × 2 columns</p>\n",
       "</div>"
      ],
      "text/plain": [
       "        v1                                                 v2\n",
       "0      ham  Go until jurong point, crazy.. Available only ...\n",
       "1      ham                      Ok lar... Joking wif u oni...\n",
       "2     spam  Free entry in 2 a wkly comp to win FA Cup fina...\n",
       "3      ham  U dun say so early hor... U c already then say...\n",
       "4      ham  Nah I don't think he goes to usf, he lives aro...\n",
       "...    ...                                                ...\n",
       "5567  spam  This is the 2nd time we have tried 2 contact u...\n",
       "5568   ham              Will �_ b going to esplanade fr home?\n",
       "5569   ham  Pity, * was in mood for that. So...any other s...\n",
       "5570   ham  The guy did some bitching but I acted like i'd...\n",
       "5571   ham                         Rofl. Its true to its name\n",
       "\n",
       "[5572 rows x 2 columns]"
      ]
     },
     "execution_count": 6,
     "metadata": {},
     "output_type": "execute_result"
    }
   ],
   "source": [
    "df"
   ]
  },
  {
   "cell_type": "code",
   "execution_count": 7,
   "id": "4f94b649",
   "metadata": {},
   "outputs": [],
   "source": [
    "file_2 = pd.read_csv(\"C:/Users/nsarr/Downloads/spam mail dataset/spam_ham_dataset.csv\")\n",
    "df2 = pd.DataFrame(file_2)"
   ]
  },
  {
   "cell_type": "code",
   "execution_count": 8,
   "id": "2e82ab72",
   "metadata": {},
   "outputs": [
    {
     "data": {
      "text/html": [
       "<div>\n",
       "<style scoped>\n",
       "    .dataframe tbody tr th:only-of-type {\n",
       "        vertical-align: middle;\n",
       "    }\n",
       "\n",
       "    .dataframe tbody tr th {\n",
       "        vertical-align: top;\n",
       "    }\n",
       "\n",
       "    .dataframe thead th {\n",
       "        text-align: right;\n",
       "    }\n",
       "</style>\n",
       "<table border=\"1\" class=\"dataframe\">\n",
       "  <thead>\n",
       "    <tr style=\"text-align: right;\">\n",
       "      <th></th>\n",
       "      <th>Unnamed: 0</th>\n",
       "      <th>label</th>\n",
       "      <th>text</th>\n",
       "      <th>label_num</th>\n",
       "    </tr>\n",
       "  </thead>\n",
       "  <tbody>\n",
       "    <tr>\n",
       "      <th>0</th>\n",
       "      <td>605</td>\n",
       "      <td>ham</td>\n",
       "      <td>Subject: enron methanol ; meter # : 988291\\r\\n...</td>\n",
       "      <td>0</td>\n",
       "    </tr>\n",
       "    <tr>\n",
       "      <th>1</th>\n",
       "      <td>2349</td>\n",
       "      <td>ham</td>\n",
       "      <td>Subject: hpl nom for january 9 , 2001\\r\\n( see...</td>\n",
       "      <td>0</td>\n",
       "    </tr>\n",
       "    <tr>\n",
       "      <th>2</th>\n",
       "      <td>3624</td>\n",
       "      <td>ham</td>\n",
       "      <td>Subject: neon retreat\\r\\nho ho ho , we ' re ar...</td>\n",
       "      <td>0</td>\n",
       "    </tr>\n",
       "    <tr>\n",
       "      <th>3</th>\n",
       "      <td>4685</td>\n",
       "      <td>spam</td>\n",
       "      <td>Subject: photoshop , windows , office . cheap ...</td>\n",
       "      <td>1</td>\n",
       "    </tr>\n",
       "    <tr>\n",
       "      <th>4</th>\n",
       "      <td>2030</td>\n",
       "      <td>ham</td>\n",
       "      <td>Subject: re : indian springs\\r\\nthis deal is t...</td>\n",
       "      <td>0</td>\n",
       "    </tr>\n",
       "    <tr>\n",
       "      <th>...</th>\n",
       "      <td>...</td>\n",
       "      <td>...</td>\n",
       "      <td>...</td>\n",
       "      <td>...</td>\n",
       "    </tr>\n",
       "    <tr>\n",
       "      <th>5166</th>\n",
       "      <td>1518</td>\n",
       "      <td>ham</td>\n",
       "      <td>Subject: put the 10 on the ft\\r\\nthe transport...</td>\n",
       "      <td>0</td>\n",
       "    </tr>\n",
       "    <tr>\n",
       "      <th>5167</th>\n",
       "      <td>404</td>\n",
       "      <td>ham</td>\n",
       "      <td>Subject: 3 / 4 / 2000 and following noms\\r\\nhp...</td>\n",
       "      <td>0</td>\n",
       "    </tr>\n",
       "    <tr>\n",
       "      <th>5168</th>\n",
       "      <td>2933</td>\n",
       "      <td>ham</td>\n",
       "      <td>Subject: calpine daily gas nomination\\r\\n&gt;\\r\\n...</td>\n",
       "      <td>0</td>\n",
       "    </tr>\n",
       "    <tr>\n",
       "      <th>5169</th>\n",
       "      <td>1409</td>\n",
       "      <td>ham</td>\n",
       "      <td>Subject: industrial worksheets for august 2000...</td>\n",
       "      <td>0</td>\n",
       "    </tr>\n",
       "    <tr>\n",
       "      <th>5170</th>\n",
       "      <td>4807</td>\n",
       "      <td>spam</td>\n",
       "      <td>Subject: important online banking alert\\r\\ndea...</td>\n",
       "      <td>1</td>\n",
       "    </tr>\n",
       "  </tbody>\n",
       "</table>\n",
       "<p>5171 rows × 4 columns</p>\n",
       "</div>"
      ],
      "text/plain": [
       "      Unnamed: 0 label                                               text  \\\n",
       "0            605   ham  Subject: enron methanol ; meter # : 988291\\r\\n...   \n",
       "1           2349   ham  Subject: hpl nom for january 9 , 2001\\r\\n( see...   \n",
       "2           3624   ham  Subject: neon retreat\\r\\nho ho ho , we ' re ar...   \n",
       "3           4685  spam  Subject: photoshop , windows , office . cheap ...   \n",
       "4           2030   ham  Subject: re : indian springs\\r\\nthis deal is t...   \n",
       "...          ...   ...                                                ...   \n",
       "5166        1518   ham  Subject: put the 10 on the ft\\r\\nthe transport...   \n",
       "5167         404   ham  Subject: 3 / 4 / 2000 and following noms\\r\\nhp...   \n",
       "5168        2933   ham  Subject: calpine daily gas nomination\\r\\n>\\r\\n...   \n",
       "5169        1409   ham  Subject: industrial worksheets for august 2000...   \n",
       "5170        4807  spam  Subject: important online banking alert\\r\\ndea...   \n",
       "\n",
       "      label_num  \n",
       "0             0  \n",
       "1             0  \n",
       "2             0  \n",
       "3             1  \n",
       "4             0  \n",
       "...         ...  \n",
       "5166          0  \n",
       "5167          0  \n",
       "5168          0  \n",
       "5169          0  \n",
       "5170          1  \n",
       "\n",
       "[5171 rows x 4 columns]"
      ]
     },
     "execution_count": 8,
     "metadata": {},
     "output_type": "execute_result"
    }
   ],
   "source": [
    "df2"
   ]
  },
  {
   "cell_type": "markdown",
   "id": "46ebcb82",
   "metadata": {},
   "source": [
    "# DATA CLEANING AND PRE-PROCESSING\n"
   ]
  },
  {
   "cell_type": "code",
   "execution_count": 9,
   "id": "1c0cd645",
   "metadata": {},
   "outputs": [],
   "source": [
    "df2=df2.drop(['Unnamed: 0','label_num'],axis=1)"
   ]
  },
  {
   "cell_type": "code",
   "execution_count": 10,
   "id": "17b53f47",
   "metadata": {},
   "outputs": [
    {
     "data": {
      "text/html": [
       "<div>\n",
       "<style scoped>\n",
       "    .dataframe tbody tr th:only-of-type {\n",
       "        vertical-align: middle;\n",
       "    }\n",
       "\n",
       "    .dataframe tbody tr th {\n",
       "        vertical-align: top;\n",
       "    }\n",
       "\n",
       "    .dataframe thead th {\n",
       "        text-align: right;\n",
       "    }\n",
       "</style>\n",
       "<table border=\"1\" class=\"dataframe\">\n",
       "  <thead>\n",
       "    <tr style=\"text-align: right;\">\n",
       "      <th></th>\n",
       "      <th>label</th>\n",
       "      <th>text</th>\n",
       "    </tr>\n",
       "  </thead>\n",
       "  <tbody>\n",
       "    <tr>\n",
       "      <th>0</th>\n",
       "      <td>ham</td>\n",
       "      <td>Subject: enron methanol ; meter # : 988291\\r\\n...</td>\n",
       "    </tr>\n",
       "    <tr>\n",
       "      <th>1</th>\n",
       "      <td>ham</td>\n",
       "      <td>Subject: hpl nom for january 9 , 2001\\r\\n( see...</td>\n",
       "    </tr>\n",
       "    <tr>\n",
       "      <th>2</th>\n",
       "      <td>ham</td>\n",
       "      <td>Subject: neon retreat\\r\\nho ho ho , we ' re ar...</td>\n",
       "    </tr>\n",
       "    <tr>\n",
       "      <th>3</th>\n",
       "      <td>spam</td>\n",
       "      <td>Subject: photoshop , windows , office . cheap ...</td>\n",
       "    </tr>\n",
       "    <tr>\n",
       "      <th>4</th>\n",
       "      <td>ham</td>\n",
       "      <td>Subject: re : indian springs\\r\\nthis deal is t...</td>\n",
       "    </tr>\n",
       "    <tr>\n",
       "      <th>...</th>\n",
       "      <td>...</td>\n",
       "      <td>...</td>\n",
       "    </tr>\n",
       "    <tr>\n",
       "      <th>5166</th>\n",
       "      <td>ham</td>\n",
       "      <td>Subject: put the 10 on the ft\\r\\nthe transport...</td>\n",
       "    </tr>\n",
       "    <tr>\n",
       "      <th>5167</th>\n",
       "      <td>ham</td>\n",
       "      <td>Subject: 3 / 4 / 2000 and following noms\\r\\nhp...</td>\n",
       "    </tr>\n",
       "    <tr>\n",
       "      <th>5168</th>\n",
       "      <td>ham</td>\n",
       "      <td>Subject: calpine daily gas nomination\\r\\n&gt;\\r\\n...</td>\n",
       "    </tr>\n",
       "    <tr>\n",
       "      <th>5169</th>\n",
       "      <td>ham</td>\n",
       "      <td>Subject: industrial worksheets for august 2000...</td>\n",
       "    </tr>\n",
       "    <tr>\n",
       "      <th>5170</th>\n",
       "      <td>spam</td>\n",
       "      <td>Subject: important online banking alert\\r\\ndea...</td>\n",
       "    </tr>\n",
       "  </tbody>\n",
       "</table>\n",
       "<p>5171 rows × 2 columns</p>\n",
       "</div>"
      ],
      "text/plain": [
       "     label                                               text\n",
       "0      ham  Subject: enron methanol ; meter # : 988291\\r\\n...\n",
       "1      ham  Subject: hpl nom for january 9 , 2001\\r\\n( see...\n",
       "2      ham  Subject: neon retreat\\r\\nho ho ho , we ' re ar...\n",
       "3     spam  Subject: photoshop , windows , office . cheap ...\n",
       "4      ham  Subject: re : indian springs\\r\\nthis deal is t...\n",
       "...    ...                                                ...\n",
       "5166   ham  Subject: put the 10 on the ft\\r\\nthe transport...\n",
       "5167   ham  Subject: 3 / 4 / 2000 and following noms\\r\\nhp...\n",
       "5168   ham  Subject: calpine daily gas nomination\\r\\n>\\r\\n...\n",
       "5169   ham  Subject: industrial worksheets for august 2000...\n",
       "5170  spam  Subject: important online banking alert\\r\\ndea...\n",
       "\n",
       "[5171 rows x 2 columns]"
      ]
     },
     "execution_count": 10,
     "metadata": {},
     "output_type": "execute_result"
    }
   ],
   "source": [
    "df2"
   ]
  },
  {
   "cell_type": "code",
   "execution_count": 11,
   "id": "4a8e7d76",
   "metadata": {},
   "outputs": [],
   "source": [
    "temp = df2.loc[df2['label'] == 'spam'].copy()"
   ]
  },
  {
   "cell_type": "code",
   "execution_count": 12,
   "id": "bbdba22a",
   "metadata": {},
   "outputs": [
    {
     "data": {
      "text/html": [
       "<div>\n",
       "<style scoped>\n",
       "    .dataframe tbody tr th:only-of-type {\n",
       "        vertical-align: middle;\n",
       "    }\n",
       "\n",
       "    .dataframe tbody tr th {\n",
       "        vertical-align: top;\n",
       "    }\n",
       "\n",
       "    .dataframe thead th {\n",
       "        text-align: right;\n",
       "    }\n",
       "</style>\n",
       "<table border=\"1\" class=\"dataframe\">\n",
       "  <thead>\n",
       "    <tr style=\"text-align: right;\">\n",
       "      <th></th>\n",
       "      <th>label</th>\n",
       "      <th>text</th>\n",
       "    </tr>\n",
       "  </thead>\n",
       "  <tbody>\n",
       "    <tr>\n",
       "      <th>3</th>\n",
       "      <td>spam</td>\n",
       "      <td>Subject: photoshop , windows , office . cheap ...</td>\n",
       "    </tr>\n",
       "    <tr>\n",
       "      <th>7</th>\n",
       "      <td>spam</td>\n",
       "      <td>Subject: looking for medication ? we ` re the ...</td>\n",
       "    </tr>\n",
       "    <tr>\n",
       "      <th>10</th>\n",
       "      <td>spam</td>\n",
       "      <td>Subject: vocable % rnd - word asceticism\\r\\nvc...</td>\n",
       "    </tr>\n",
       "    <tr>\n",
       "      <th>11</th>\n",
       "      <td>spam</td>\n",
       "      <td>Subject: report 01405 !\\r\\nwffur attion brom e...</td>\n",
       "    </tr>\n",
       "    <tr>\n",
       "      <th>13</th>\n",
       "      <td>spam</td>\n",
       "      <td>Subject: vic . odin n ^ ow\\r\\nberne hotbox car...</td>\n",
       "    </tr>\n",
       "    <tr>\n",
       "      <th>...</th>\n",
       "      <td>...</td>\n",
       "      <td>...</td>\n",
       "    </tr>\n",
       "    <tr>\n",
       "      <th>5159</th>\n",
       "      <td>spam</td>\n",
       "      <td>Subject: pictures\\r\\nstreamlined denizen ajar ...</td>\n",
       "    </tr>\n",
       "    <tr>\n",
       "      <th>5161</th>\n",
       "      <td>spam</td>\n",
       "      <td>Subject: penny stocks are about timing\\r\\nnoma...</td>\n",
       "    </tr>\n",
       "    <tr>\n",
       "      <th>5162</th>\n",
       "      <td>spam</td>\n",
       "      <td>Subject: anomaly boys from 3881\\r\\nuosda apapr...</td>\n",
       "    </tr>\n",
       "    <tr>\n",
       "      <th>5164</th>\n",
       "      <td>spam</td>\n",
       "      <td>Subject: slutty milf wants to meet you\\r\\ntake...</td>\n",
       "    </tr>\n",
       "    <tr>\n",
       "      <th>5170</th>\n",
       "      <td>spam</td>\n",
       "      <td>Subject: important online banking alert\\r\\ndea...</td>\n",
       "    </tr>\n",
       "  </tbody>\n",
       "</table>\n",
       "<p>1499 rows × 2 columns</p>\n",
       "</div>"
      ],
      "text/plain": [
       "     label                                               text\n",
       "3     spam  Subject: photoshop , windows , office . cheap ...\n",
       "7     spam  Subject: looking for medication ? we ` re the ...\n",
       "10    spam  Subject: vocable % rnd - word asceticism\\r\\nvc...\n",
       "11    spam  Subject: report 01405 !\\r\\nwffur attion brom e...\n",
       "13    spam  Subject: vic . odin n ^ ow\\r\\nberne hotbox car...\n",
       "...    ...                                                ...\n",
       "5159  spam  Subject: pictures\\r\\nstreamlined denizen ajar ...\n",
       "5161  spam  Subject: penny stocks are about timing\\r\\nnoma...\n",
       "5162  spam  Subject: anomaly boys from 3881\\r\\nuosda apapr...\n",
       "5164  spam  Subject: slutty milf wants to meet you\\r\\ntake...\n",
       "5170  spam  Subject: important online banking alert\\r\\ndea...\n",
       "\n",
       "[1499 rows x 2 columns]"
      ]
     },
     "execution_count": 12,
     "metadata": {},
     "output_type": "execute_result"
    }
   ],
   "source": [
    "temp"
   ]
  },
  {
   "cell_type": "code",
   "execution_count": 13,
   "id": "84c81666",
   "metadata": {},
   "outputs": [],
   "source": [
    "temp = temp.iloc[0:501]"
   ]
  },
  {
   "cell_type": "code",
   "execution_count": 14,
   "id": "9d4d12e9",
   "metadata": {},
   "outputs": [
    {
     "data": {
      "text/html": [
       "<div>\n",
       "<style scoped>\n",
       "    .dataframe tbody tr th:only-of-type {\n",
       "        vertical-align: middle;\n",
       "    }\n",
       "\n",
       "    .dataframe tbody tr th {\n",
       "        vertical-align: top;\n",
       "    }\n",
       "\n",
       "    .dataframe thead th {\n",
       "        text-align: right;\n",
       "    }\n",
       "</style>\n",
       "<table border=\"1\" class=\"dataframe\">\n",
       "  <thead>\n",
       "    <tr style=\"text-align: right;\">\n",
       "      <th></th>\n",
       "      <th>label</th>\n",
       "      <th>text</th>\n",
       "    </tr>\n",
       "  </thead>\n",
       "  <tbody>\n",
       "    <tr>\n",
       "      <th>3</th>\n",
       "      <td>spam</td>\n",
       "      <td>Subject: photoshop , windows , office . cheap ...</td>\n",
       "    </tr>\n",
       "    <tr>\n",
       "      <th>7</th>\n",
       "      <td>spam</td>\n",
       "      <td>Subject: looking for medication ? we ` re the ...</td>\n",
       "    </tr>\n",
       "    <tr>\n",
       "      <th>10</th>\n",
       "      <td>spam</td>\n",
       "      <td>Subject: vocable % rnd - word asceticism\\r\\nvc...</td>\n",
       "    </tr>\n",
       "    <tr>\n",
       "      <th>11</th>\n",
       "      <td>spam</td>\n",
       "      <td>Subject: report 01405 !\\r\\nwffur attion brom e...</td>\n",
       "    </tr>\n",
       "    <tr>\n",
       "      <th>13</th>\n",
       "      <td>spam</td>\n",
       "      <td>Subject: vic . odin n ^ ow\\r\\nberne hotbox car...</td>\n",
       "    </tr>\n",
       "    <tr>\n",
       "      <th>...</th>\n",
       "      <td>...</td>\n",
       "      <td>...</td>\n",
       "    </tr>\n",
       "    <tr>\n",
       "      <th>1761</th>\n",
       "      <td>spam</td>\n",
       "      <td>Subject: this 12 minute movie will change your...</td>\n",
       "    </tr>\n",
       "    <tr>\n",
       "      <th>1763</th>\n",
       "      <td>spam</td>\n",
       "      <td>Subject: better get it now\\r\\nthis needs no in...</td>\n",
       "    </tr>\n",
       "    <tr>\n",
       "      <th>1770</th>\n",
       "      <td>spam</td>\n",
       "      <td>Subject: quick way to buy soft - ware\\r\\nvarie...</td>\n",
       "    </tr>\n",
       "    <tr>\n",
       "      <th>1774</th>\n",
       "      <td>spam</td>\n",
       "      <td>Subject: usb charset = us - ascii \" &gt;\\r\\nexter...</td>\n",
       "    </tr>\n",
       "    <tr>\n",
       "      <th>1781</th>\n",
       "      <td>spam</td>\n",
       "      <td>Subject: doctor aipproved cia . lls &amp; lev . it...</td>\n",
       "    </tr>\n",
       "  </tbody>\n",
       "</table>\n",
       "<p>501 rows × 2 columns</p>\n",
       "</div>"
      ],
      "text/plain": [
       "     label                                               text\n",
       "3     spam  Subject: photoshop , windows , office . cheap ...\n",
       "7     spam  Subject: looking for medication ? we ` re the ...\n",
       "10    spam  Subject: vocable % rnd - word asceticism\\r\\nvc...\n",
       "11    spam  Subject: report 01405 !\\r\\nwffur attion brom e...\n",
       "13    spam  Subject: vic . odin n ^ ow\\r\\nberne hotbox car...\n",
       "...    ...                                                ...\n",
       "1761  spam  Subject: this 12 minute movie will change your...\n",
       "1763  spam  Subject: better get it now\\r\\nthis needs no in...\n",
       "1770  spam  Subject: quick way to buy soft - ware\\r\\nvarie...\n",
       "1774  spam  Subject: usb charset = us - ascii \" >\\r\\nexter...\n",
       "1781  spam  Subject: doctor aipproved cia . lls & lev . it...\n",
       "\n",
       "[501 rows x 2 columns]"
      ]
     },
     "execution_count": 14,
     "metadata": {},
     "output_type": "execute_result"
    }
   ],
   "source": [
    "temp"
   ]
  },
  {
   "cell_type": "code",
   "execution_count": 15,
   "id": "bebcbbf8",
   "metadata": {},
   "outputs": [
    {
     "name": "stderr",
     "output_type": "stream",
     "text": [
      "<ipython-input-15-0a20f4b5ba21>:1: SettingWithCopyWarning: \n",
      "A value is trying to be set on a copy of a slice from a DataFrame.\n",
      "Try using .loc[row_indexer,col_indexer] = value instead\n",
      "\n",
      "See the caveats in the documentation: https://pandas.pydata.org/pandas-docs/stable/user_guide/indexing.html#returning-a-view-versus-a-copy\n",
      "  temp['text'] = temp['text'].str.replace('Subject:','')\n"
     ]
    }
   ],
   "source": [
    "temp['text'] = temp['text'].str.replace('Subject:','')"
   ]
  },
  {
   "cell_type": "code",
   "execution_count": 16,
   "id": "70fb235d",
   "metadata": {},
   "outputs": [
    {
     "data": {
      "text/html": [
       "<div>\n",
       "<style scoped>\n",
       "    .dataframe tbody tr th:only-of-type {\n",
       "        vertical-align: middle;\n",
       "    }\n",
       "\n",
       "    .dataframe tbody tr th {\n",
       "        vertical-align: top;\n",
       "    }\n",
       "\n",
       "    .dataframe thead th {\n",
       "        text-align: right;\n",
       "    }\n",
       "</style>\n",
       "<table border=\"1\" class=\"dataframe\">\n",
       "  <thead>\n",
       "    <tr style=\"text-align: right;\">\n",
       "      <th></th>\n",
       "      <th>label</th>\n",
       "      <th>text</th>\n",
       "    </tr>\n",
       "  </thead>\n",
       "  <tbody>\n",
       "    <tr>\n",
       "      <th>3</th>\n",
       "      <td>spam</td>\n",
       "      <td>photoshop , windows , office . cheap . main t...</td>\n",
       "    </tr>\n",
       "    <tr>\n",
       "      <th>7</th>\n",
       "      <td>spam</td>\n",
       "      <td>looking for medication ? we ` re the best sou...</td>\n",
       "    </tr>\n",
       "    <tr>\n",
       "      <th>10</th>\n",
       "      <td>spam</td>\n",
       "      <td>vocable % rnd - word asceticism\\r\\nvcsc - bra...</td>\n",
       "    </tr>\n",
       "    <tr>\n",
       "      <th>11</th>\n",
       "      <td>spam</td>\n",
       "      <td>report 01405 !\\r\\nwffur attion brom est inst ...</td>\n",
       "    </tr>\n",
       "    <tr>\n",
       "      <th>13</th>\n",
       "      <td>spam</td>\n",
       "      <td>vic . odin n ^ ow\\r\\nberne hotbox carnal brid...</td>\n",
       "    </tr>\n",
       "    <tr>\n",
       "      <th>...</th>\n",
       "      <td>...</td>\n",
       "      <td>...</td>\n",
       "    </tr>\n",
       "    <tr>\n",
       "      <th>1761</th>\n",
       "      <td>spam</td>\n",
       "      <td>this 12 minute movie will change your life . ...</td>\n",
       "    </tr>\n",
       "    <tr>\n",
       "      <th>1763</th>\n",
       "      <td>spam</td>\n",
       "      <td>better get it now\\r\\nthis needs no introducti...</td>\n",
       "    </tr>\n",
       "    <tr>\n",
       "      <th>1770</th>\n",
       "      <td>spam</td>\n",
       "      <td>quick way to buy soft - ware\\r\\nvariety of to...</td>\n",
       "    </tr>\n",
       "    <tr>\n",
       "      <th>1774</th>\n",
       "      <td>spam</td>\n",
       "      <td>usb charset = us - ascii \" &gt;\\r\\nexternal fax ...</td>\n",
       "    </tr>\n",
       "    <tr>\n",
       "      <th>1781</th>\n",
       "      <td>spam</td>\n",
       "      <td>doctor aipproved cia . lls &amp; lev . itra will ...</td>\n",
       "    </tr>\n",
       "  </tbody>\n",
       "</table>\n",
       "<p>501 rows × 2 columns</p>\n",
       "</div>"
      ],
      "text/plain": [
       "     label                                               text\n",
       "3     spam   photoshop , windows , office . cheap . main t...\n",
       "7     spam   looking for medication ? we ` re the best sou...\n",
       "10    spam   vocable % rnd - word asceticism\\r\\nvcsc - bra...\n",
       "11    spam   report 01405 !\\r\\nwffur attion brom est inst ...\n",
       "13    spam   vic . odin n ^ ow\\r\\nberne hotbox carnal brid...\n",
       "...    ...                                                ...\n",
       "1761  spam   this 12 minute movie will change your life . ...\n",
       "1763  spam   better get it now\\r\\nthis needs no introducti...\n",
       "1770  spam   quick way to buy soft - ware\\r\\nvariety of to...\n",
       "1774  spam   usb charset = us - ascii \" >\\r\\nexternal fax ...\n",
       "1781  spam   doctor aipproved cia . lls & lev . itra will ...\n",
       "\n",
       "[501 rows x 2 columns]"
      ]
     },
     "execution_count": 16,
     "metadata": {},
     "output_type": "execute_result"
    }
   ],
   "source": [
    "temp"
   ]
  },
  {
   "cell_type": "code",
   "execution_count": 17,
   "id": "58c704d8",
   "metadata": {},
   "outputs": [],
   "source": [
    "df = df.rename(columns={'v1':'label','v2':'text'})"
   ]
  },
  {
   "cell_type": "code",
   "execution_count": 18,
   "id": "f341cc03",
   "metadata": {},
   "outputs": [
    {
     "data": {
      "text/html": [
       "<div>\n",
       "<style scoped>\n",
       "    .dataframe tbody tr th:only-of-type {\n",
       "        vertical-align: middle;\n",
       "    }\n",
       "\n",
       "    .dataframe tbody tr th {\n",
       "        vertical-align: top;\n",
       "    }\n",
       "\n",
       "    .dataframe thead th {\n",
       "        text-align: right;\n",
       "    }\n",
       "</style>\n",
       "<table border=\"1\" class=\"dataframe\">\n",
       "  <thead>\n",
       "    <tr style=\"text-align: right;\">\n",
       "      <th></th>\n",
       "      <th>label</th>\n",
       "      <th>text</th>\n",
       "    </tr>\n",
       "  </thead>\n",
       "  <tbody>\n",
       "    <tr>\n",
       "      <th>0</th>\n",
       "      <td>ham</td>\n",
       "      <td>Go until jurong point, crazy.. Available only ...</td>\n",
       "    </tr>\n",
       "    <tr>\n",
       "      <th>1</th>\n",
       "      <td>ham</td>\n",
       "      <td>Ok lar... Joking wif u oni...</td>\n",
       "    </tr>\n",
       "    <tr>\n",
       "      <th>2</th>\n",
       "      <td>spam</td>\n",
       "      <td>Free entry in 2 a wkly comp to win FA Cup fina...</td>\n",
       "    </tr>\n",
       "    <tr>\n",
       "      <th>3</th>\n",
       "      <td>ham</td>\n",
       "      <td>U dun say so early hor... U c already then say...</td>\n",
       "    </tr>\n",
       "    <tr>\n",
       "      <th>4</th>\n",
       "      <td>ham</td>\n",
       "      <td>Nah I don't think he goes to usf, he lives aro...</td>\n",
       "    </tr>\n",
       "    <tr>\n",
       "      <th>...</th>\n",
       "      <td>...</td>\n",
       "      <td>...</td>\n",
       "    </tr>\n",
       "    <tr>\n",
       "      <th>5567</th>\n",
       "      <td>spam</td>\n",
       "      <td>This is the 2nd time we have tried 2 contact u...</td>\n",
       "    </tr>\n",
       "    <tr>\n",
       "      <th>5568</th>\n",
       "      <td>ham</td>\n",
       "      <td>Will �_ b going to esplanade fr home?</td>\n",
       "    </tr>\n",
       "    <tr>\n",
       "      <th>5569</th>\n",
       "      <td>ham</td>\n",
       "      <td>Pity, * was in mood for that. So...any other s...</td>\n",
       "    </tr>\n",
       "    <tr>\n",
       "      <th>5570</th>\n",
       "      <td>ham</td>\n",
       "      <td>The guy did some bitching but I acted like i'd...</td>\n",
       "    </tr>\n",
       "    <tr>\n",
       "      <th>5571</th>\n",
       "      <td>ham</td>\n",
       "      <td>Rofl. Its true to its name</td>\n",
       "    </tr>\n",
       "  </tbody>\n",
       "</table>\n",
       "<p>5572 rows × 2 columns</p>\n",
       "</div>"
      ],
      "text/plain": [
       "     label                                               text\n",
       "0      ham  Go until jurong point, crazy.. Available only ...\n",
       "1      ham                      Ok lar... Joking wif u oni...\n",
       "2     spam  Free entry in 2 a wkly comp to win FA Cup fina...\n",
       "3      ham  U dun say so early hor... U c already then say...\n",
       "4      ham  Nah I don't think he goes to usf, he lives aro...\n",
       "...    ...                                                ...\n",
       "5567  spam  This is the 2nd time we have tried 2 contact u...\n",
       "5568   ham              Will �_ b going to esplanade fr home?\n",
       "5569   ham  Pity, * was in mood for that. So...any other s...\n",
       "5570   ham  The guy did some bitching but I acted like i'd...\n",
       "5571   ham                         Rofl. Its true to its name\n",
       "\n",
       "[5572 rows x 2 columns]"
      ]
     },
     "execution_count": 18,
     "metadata": {},
     "output_type": "execute_result"
    }
   ],
   "source": [
    "df"
   ]
  },
  {
   "cell_type": "code",
   "execution_count": 19,
   "id": "724f16ce",
   "metadata": {},
   "outputs": [],
   "source": [
    "final = pd.concat([df,temp],axis=0)"
   ]
  },
  {
   "cell_type": "code",
   "execution_count": 20,
   "id": "859e91fa",
   "metadata": {},
   "outputs": [
    {
     "data": {
      "text/html": [
       "<div>\n",
       "<style scoped>\n",
       "    .dataframe tbody tr th:only-of-type {\n",
       "        vertical-align: middle;\n",
       "    }\n",
       "\n",
       "    .dataframe tbody tr th {\n",
       "        vertical-align: top;\n",
       "    }\n",
       "\n",
       "    .dataframe thead th {\n",
       "        text-align: right;\n",
       "    }\n",
       "</style>\n",
       "<table border=\"1\" class=\"dataframe\">\n",
       "  <thead>\n",
       "    <tr style=\"text-align: right;\">\n",
       "      <th></th>\n",
       "      <th>label</th>\n",
       "      <th>text</th>\n",
       "    </tr>\n",
       "  </thead>\n",
       "  <tbody>\n",
       "    <tr>\n",
       "      <th>0</th>\n",
       "      <td>ham</td>\n",
       "      <td>Go until jurong point, crazy.. Available only ...</td>\n",
       "    </tr>\n",
       "    <tr>\n",
       "      <th>1</th>\n",
       "      <td>ham</td>\n",
       "      <td>Ok lar... Joking wif u oni...</td>\n",
       "    </tr>\n",
       "    <tr>\n",
       "      <th>2</th>\n",
       "      <td>spam</td>\n",
       "      <td>Free entry in 2 a wkly comp to win FA Cup fina...</td>\n",
       "    </tr>\n",
       "    <tr>\n",
       "      <th>3</th>\n",
       "      <td>ham</td>\n",
       "      <td>U dun say so early hor... U c already then say...</td>\n",
       "    </tr>\n",
       "    <tr>\n",
       "      <th>4</th>\n",
       "      <td>ham</td>\n",
       "      <td>Nah I don't think he goes to usf, he lives aro...</td>\n",
       "    </tr>\n",
       "    <tr>\n",
       "      <th>...</th>\n",
       "      <td>...</td>\n",
       "      <td>...</td>\n",
       "    </tr>\n",
       "    <tr>\n",
       "      <th>1761</th>\n",
       "      <td>spam</td>\n",
       "      <td>this 12 minute movie will change your life . ...</td>\n",
       "    </tr>\n",
       "    <tr>\n",
       "      <th>1763</th>\n",
       "      <td>spam</td>\n",
       "      <td>better get it now\\r\\nthis needs no introducti...</td>\n",
       "    </tr>\n",
       "    <tr>\n",
       "      <th>1770</th>\n",
       "      <td>spam</td>\n",
       "      <td>quick way to buy soft - ware\\r\\nvariety of to...</td>\n",
       "    </tr>\n",
       "    <tr>\n",
       "      <th>1774</th>\n",
       "      <td>spam</td>\n",
       "      <td>usb charset = us - ascii \" &gt;\\r\\nexternal fax ...</td>\n",
       "    </tr>\n",
       "    <tr>\n",
       "      <th>1781</th>\n",
       "      <td>spam</td>\n",
       "      <td>doctor aipproved cia . lls &amp; lev . itra will ...</td>\n",
       "    </tr>\n",
       "  </tbody>\n",
       "</table>\n",
       "<p>6073 rows × 2 columns</p>\n",
       "</div>"
      ],
      "text/plain": [
       "     label                                               text\n",
       "0      ham  Go until jurong point, crazy.. Available only ...\n",
       "1      ham                      Ok lar... Joking wif u oni...\n",
       "2     spam  Free entry in 2 a wkly comp to win FA Cup fina...\n",
       "3      ham  U dun say so early hor... U c already then say...\n",
       "4      ham  Nah I don't think he goes to usf, he lives aro...\n",
       "...    ...                                                ...\n",
       "1761  spam   this 12 minute movie will change your life . ...\n",
       "1763  spam   better get it now\\r\\nthis needs no introducti...\n",
       "1770  spam   quick way to buy soft - ware\\r\\nvariety of to...\n",
       "1774  spam   usb charset = us - ascii \" >\\r\\nexternal fax ...\n",
       "1781  spam   doctor aipproved cia . lls & lev . itra will ...\n",
       "\n",
       "[6073 rows x 2 columns]"
      ]
     },
     "execution_count": 20,
     "metadata": {},
     "output_type": "execute_result"
    }
   ],
   "source": [
    "final"
   ]
  },
  {
   "cell_type": "code",
   "execution_count": 21,
   "id": "d63c35d3",
   "metadata": {},
   "outputs": [],
   "source": [
    "final = final.sample(frac=1).reset_index(drop=True)"
   ]
  },
  {
   "cell_type": "code",
   "execution_count": 22,
   "id": "7b99da79",
   "metadata": {},
   "outputs": [
    {
     "data": {
      "text/html": [
       "<div>\n",
       "<style scoped>\n",
       "    .dataframe tbody tr th:only-of-type {\n",
       "        vertical-align: middle;\n",
       "    }\n",
       "\n",
       "    .dataframe tbody tr th {\n",
       "        vertical-align: top;\n",
       "    }\n",
       "\n",
       "    .dataframe thead th {\n",
       "        text-align: right;\n",
       "    }\n",
       "</style>\n",
       "<table border=\"1\" class=\"dataframe\">\n",
       "  <thead>\n",
       "    <tr style=\"text-align: right;\">\n",
       "      <th></th>\n",
       "      <th>label</th>\n",
       "      <th>text</th>\n",
       "    </tr>\n",
       "  </thead>\n",
       "  <tbody>\n",
       "    <tr>\n",
       "      <th>0</th>\n",
       "      <td>spam</td>\n",
       "      <td>Our brand new mobile music service is now live...</td>\n",
       "    </tr>\n",
       "    <tr>\n",
       "      <th>1</th>\n",
       "      <td>ham</td>\n",
       "      <td>Good afternoon sunshine! How dawns that day ? ...</td>\n",
       "    </tr>\n",
       "    <tr>\n",
       "      <th>2</th>\n",
       "      <td>spam</td>\n",
       "      <td>You are being contacted by our dating service ...</td>\n",
       "    </tr>\n",
       "    <tr>\n",
       "      <th>3</th>\n",
       "      <td>ham</td>\n",
       "      <td>7 lor... Change 2 suntec... Wat time u coming?</td>\n",
       "    </tr>\n",
       "    <tr>\n",
       "      <th>4</th>\n",
       "      <td>ham</td>\n",
       "      <td>Networking job is there.</td>\n",
       "    </tr>\n",
       "    <tr>\n",
       "      <th>...</th>\n",
       "      <td>...</td>\n",
       "      <td>...</td>\n",
       "    </tr>\n",
       "    <tr>\n",
       "      <th>6068</th>\n",
       "      <td>ham</td>\n",
       "      <td>Hi its in durban are you still on this number</td>\n",
       "    </tr>\n",
       "    <tr>\n",
       "      <th>6069</th>\n",
       "      <td>ham</td>\n",
       "      <td>Yeah get the unlimited</td>\n",
       "    </tr>\n",
       "    <tr>\n",
       "      <th>6070</th>\n",
       "      <td>ham</td>\n",
       "      <td>*deep sigh* ... I miss you :-( ... I am really...</td>\n",
       "    </tr>\n",
       "    <tr>\n",
       "      <th>6071</th>\n",
       "      <td>ham</td>\n",
       "      <td>Also hi wesley how've you been</td>\n",
       "    </tr>\n",
       "    <tr>\n",
       "      <th>6072</th>\n",
       "      <td>ham</td>\n",
       "      <td>Dear i have reache room</td>\n",
       "    </tr>\n",
       "  </tbody>\n",
       "</table>\n",
       "<p>6073 rows × 2 columns</p>\n",
       "</div>"
      ],
      "text/plain": [
       "     label                                               text\n",
       "0     spam  Our brand new mobile music service is now live...\n",
       "1      ham  Good afternoon sunshine! How dawns that day ? ...\n",
       "2     spam  You are being contacted by our dating service ...\n",
       "3      ham     7 lor... Change 2 suntec... Wat time u coming?\n",
       "4      ham                           Networking job is there.\n",
       "...    ...                                                ...\n",
       "6068   ham      Hi its in durban are you still on this number\n",
       "6069   ham                             Yeah get the unlimited\n",
       "6070   ham  *deep sigh* ... I miss you :-( ... I am really...\n",
       "6071   ham                     Also hi wesley how've you been\n",
       "6072   ham                            Dear i have reache room\n",
       "\n",
       "[6073 rows x 2 columns]"
      ]
     },
     "execution_count": 22,
     "metadata": {},
     "output_type": "execute_result"
    }
   ],
   "source": [
    "final"
   ]
  },
  {
   "cell_type": "code",
   "execution_count": 23,
   "id": "cd7ba4cc",
   "metadata": {},
   "outputs": [
    {
     "data": {
      "text/plain": [
       "ham     4825\n",
       "spam    1248\n",
       "Name: label, dtype: int64"
      ]
     },
     "execution_count": 23,
     "metadata": {},
     "output_type": "execute_result"
    }
   ],
   "source": [
    "final['label'].value_counts()"
   ]
  },
  {
   "cell_type": "markdown",
   "id": "ec4c3212",
   "metadata": {},
   "source": [
    "REMOVING PUNCTUATIONS"
   ]
  },
  {
   "cell_type": "code",
   "execution_count": 24,
   "id": "5aa7cb52",
   "metadata": {},
   "outputs": [],
   "source": [
    "def remove_punctuations(text):\n",
    "    trans = str.maketrans('','',string.punctuation)\n",
    "    return text.translate(trans)"
   ]
  },
  {
   "cell_type": "code",
   "execution_count": 25,
   "id": "70d0c23e",
   "metadata": {},
   "outputs": [],
   "source": [
    "final['text'] = final['text'].apply(remove_punctuations)"
   ]
  },
  {
   "cell_type": "code",
   "execution_count": 26,
   "id": "5b20f137",
   "metadata": {},
   "outputs": [
    {
     "data": {
      "text/html": [
       "<div>\n",
       "<style scoped>\n",
       "    .dataframe tbody tr th:only-of-type {\n",
       "        vertical-align: middle;\n",
       "    }\n",
       "\n",
       "    .dataframe tbody tr th {\n",
       "        vertical-align: top;\n",
       "    }\n",
       "\n",
       "    .dataframe thead th {\n",
       "        text-align: right;\n",
       "    }\n",
       "</style>\n",
       "<table border=\"1\" class=\"dataframe\">\n",
       "  <thead>\n",
       "    <tr style=\"text-align: right;\">\n",
       "      <th></th>\n",
       "      <th>label</th>\n",
       "      <th>text</th>\n",
       "    </tr>\n",
       "  </thead>\n",
       "  <tbody>\n",
       "    <tr>\n",
       "      <th>0</th>\n",
       "      <td>spam</td>\n",
       "      <td>Our brand new mobile music service is now live...</td>\n",
       "    </tr>\n",
       "    <tr>\n",
       "      <th>1</th>\n",
       "      <td>ham</td>\n",
       "      <td>Good afternoon sunshine How dawns that day  Ar...</td>\n",
       "    </tr>\n",
       "    <tr>\n",
       "      <th>2</th>\n",
       "      <td>spam</td>\n",
       "      <td>You are being contacted by our dating service ...</td>\n",
       "    </tr>\n",
       "    <tr>\n",
       "      <th>3</th>\n",
       "      <td>ham</td>\n",
       "      <td>7 lor Change 2 suntec Wat time u coming</td>\n",
       "    </tr>\n",
       "    <tr>\n",
       "      <th>4</th>\n",
       "      <td>ham</td>\n",
       "      <td>Networking job is there</td>\n",
       "    </tr>\n",
       "    <tr>\n",
       "      <th>...</th>\n",
       "      <td>...</td>\n",
       "      <td>...</td>\n",
       "    </tr>\n",
       "    <tr>\n",
       "      <th>6068</th>\n",
       "      <td>ham</td>\n",
       "      <td>Hi its in durban are you still on this number</td>\n",
       "    </tr>\n",
       "    <tr>\n",
       "      <th>6069</th>\n",
       "      <td>ham</td>\n",
       "      <td>Yeah get the unlimited</td>\n",
       "    </tr>\n",
       "    <tr>\n",
       "      <th>6070</th>\n",
       "      <td>ham</td>\n",
       "      <td>deep sigh  I miss you   I am really surprised ...</td>\n",
       "    </tr>\n",
       "    <tr>\n",
       "      <th>6071</th>\n",
       "      <td>ham</td>\n",
       "      <td>Also hi wesley howve you been</td>\n",
       "    </tr>\n",
       "    <tr>\n",
       "      <th>6072</th>\n",
       "      <td>ham</td>\n",
       "      <td>Dear i have reache room</td>\n",
       "    </tr>\n",
       "  </tbody>\n",
       "</table>\n",
       "<p>6073 rows × 2 columns</p>\n",
       "</div>"
      ],
      "text/plain": [
       "     label                                               text\n",
       "0     spam  Our brand new mobile music service is now live...\n",
       "1      ham  Good afternoon sunshine How dawns that day  Ar...\n",
       "2     spam  You are being contacted by our dating service ...\n",
       "3      ham            7 lor Change 2 suntec Wat time u coming\n",
       "4      ham                            Networking job is there\n",
       "...    ...                                                ...\n",
       "6068   ham      Hi its in durban are you still on this number\n",
       "6069   ham                             Yeah get the unlimited\n",
       "6070   ham  deep sigh  I miss you   I am really surprised ...\n",
       "6071   ham                      Also hi wesley howve you been\n",
       "6072   ham                            Dear i have reache room\n",
       "\n",
       "[6073 rows x 2 columns]"
      ]
     },
     "execution_count": 26,
     "metadata": {},
     "output_type": "execute_result"
    }
   ],
   "source": [
    "final"
   ]
  },
  {
   "cell_type": "code",
   "execution_count": 27,
   "id": "5cbca2db",
   "metadata": {},
   "outputs": [],
   "source": [
    "final['text'] = final['text'].str.replace('[^a-zA-Z0-9\\s]', '', regex=True)"
   ]
  },
  {
   "cell_type": "code",
   "execution_count": 28,
   "id": "0364102a",
   "metadata": {},
   "outputs": [
    {
     "data": {
      "text/html": [
       "<div>\n",
       "<style scoped>\n",
       "    .dataframe tbody tr th:only-of-type {\n",
       "        vertical-align: middle;\n",
       "    }\n",
       "\n",
       "    .dataframe tbody tr th {\n",
       "        vertical-align: top;\n",
       "    }\n",
       "\n",
       "    .dataframe thead th {\n",
       "        text-align: right;\n",
       "    }\n",
       "</style>\n",
       "<table border=\"1\" class=\"dataframe\">\n",
       "  <thead>\n",
       "    <tr style=\"text-align: right;\">\n",
       "      <th></th>\n",
       "      <th>label</th>\n",
       "      <th>text</th>\n",
       "    </tr>\n",
       "  </thead>\n",
       "  <tbody>\n",
       "    <tr>\n",
       "      <th>0</th>\n",
       "      <td>spam</td>\n",
       "      <td>Our brand new mobile music service is now live...</td>\n",
       "    </tr>\n",
       "    <tr>\n",
       "      <th>1</th>\n",
       "      <td>ham</td>\n",
       "      <td>Good afternoon sunshine How dawns that day  Ar...</td>\n",
       "    </tr>\n",
       "    <tr>\n",
       "      <th>2</th>\n",
       "      <td>spam</td>\n",
       "      <td>You are being contacted by our dating service ...</td>\n",
       "    </tr>\n",
       "    <tr>\n",
       "      <th>3</th>\n",
       "      <td>ham</td>\n",
       "      <td>7 lor Change 2 suntec Wat time u coming</td>\n",
       "    </tr>\n",
       "    <tr>\n",
       "      <th>4</th>\n",
       "      <td>ham</td>\n",
       "      <td>Networking job is there</td>\n",
       "    </tr>\n",
       "    <tr>\n",
       "      <th>...</th>\n",
       "      <td>...</td>\n",
       "      <td>...</td>\n",
       "    </tr>\n",
       "    <tr>\n",
       "      <th>6068</th>\n",
       "      <td>ham</td>\n",
       "      <td>Hi its in durban are you still on this number</td>\n",
       "    </tr>\n",
       "    <tr>\n",
       "      <th>6069</th>\n",
       "      <td>ham</td>\n",
       "      <td>Yeah get the unlimited</td>\n",
       "    </tr>\n",
       "    <tr>\n",
       "      <th>6070</th>\n",
       "      <td>ham</td>\n",
       "      <td>deep sigh  I miss you   I am really surprised ...</td>\n",
       "    </tr>\n",
       "    <tr>\n",
       "      <th>6071</th>\n",
       "      <td>ham</td>\n",
       "      <td>Also hi wesley howve you been</td>\n",
       "    </tr>\n",
       "    <tr>\n",
       "      <th>6072</th>\n",
       "      <td>ham</td>\n",
       "      <td>Dear i have reache room</td>\n",
       "    </tr>\n",
       "  </tbody>\n",
       "</table>\n",
       "<p>6073 rows × 2 columns</p>\n",
       "</div>"
      ],
      "text/plain": [
       "     label                                               text\n",
       "0     spam  Our brand new mobile music service is now live...\n",
       "1      ham  Good afternoon sunshine How dawns that day  Ar...\n",
       "2     spam  You are being contacted by our dating service ...\n",
       "3      ham            7 lor Change 2 suntec Wat time u coming\n",
       "4      ham                            Networking job is there\n",
       "...    ...                                                ...\n",
       "6068   ham      Hi its in durban are you still on this number\n",
       "6069   ham                             Yeah get the unlimited\n",
       "6070   ham  deep sigh  I miss you   I am really surprised ...\n",
       "6071   ham                      Also hi wesley howve you been\n",
       "6072   ham                            Dear i have reache room\n",
       "\n",
       "[6073 rows x 2 columns]"
      ]
     },
     "execution_count": 28,
     "metadata": {},
     "output_type": "execute_result"
    }
   ],
   "source": [
    "final"
   ]
  },
  {
   "cell_type": "code",
   "execution_count": 29,
   "id": "0c29d8ab",
   "metadata": {},
   "outputs": [
    {
     "data": {
      "image/png": "[encoded data removed]",
      "text/plain": [
       "<Figure size 720x576 with 1 Axes>"
      ]
     },
     "metadata": {
      "needs_background": "light"
     },
     "output_type": "display_data"
    }
   ],
   "source": [
    "labels = ['SPAM','HAM']\n",
    "count = [1248,4825]\n",
    "\n",
    "plt.figure(figsize=(10,8))\n",
    "sns.barplot(x=labels,y=count)\n",
    "plt.xlabel('Label')\n",
    "plt.ylabel('Count')\n",
    "plt.title('Number of Spam and Ham Mails')\n",
    "plt.show()"
   ]
  },
  {
   "cell_type": "code",
   "execution_count": 30,
   "id": "36315f51",
   "metadata": {},
   "outputs": [],
   "source": [
    "spam_mesgs = ' '.join(final[final['label']=='spam']['text'])\n",
    "# ham_mesgs = ' '.join(final[final['label'] == 'ham']['text'])"
   ]
  },
  {
   "cell_type": "code",
   "execution_count": 31,
   "id": "44f53c4c",
   "metadata": {},
   "outputs": [
    {
     "data": {
      "image/png": "[encoded data removed]",
      "text/plain": [
       "<Figure size 576x576 with 1 Axes>"
      ]
     },
     "metadata": {},
     "output_type": "display_data"
    }
   ],
   "source": [
    "colors = ['lightcoral', 'lightskyblue']\n",
    "explode = (0.1, 0)\n",
    "\n",
    "plt.figure(figsize=(8,8))\n",
    "plt.pie(count,explode=explode,labels=labels,colors=colors,autopct='%1.1f%%', shadow=True, startangle=140)\n",
    "plt.axis('equal')\n",
    "\n",
    "plt.title('Spam vs Ham')\n",
    "plt.show()"
   ]
  },
  {
   "cell_type": "code",
   "execution_count": 32,
   "id": "15b5e41b",
   "metadata": {},
   "outputs": [
    {
     "data": {
      "image/png": "[encoded data removed]",
      "text/plain": [
       "<Figure size 720x360 with 1 Axes>"
      ]
     },
     "metadata": {
      "needs_background": "light"
     },
     "output_type": "display_data"
    }
   ],
   "source": [
    "font_path = \"C:/Users/nsarr/07558_CenturyGothic.ttf\"\n",
    "\n",
    "spam_wordcloud = WordCloud(width=800, height=400, background_color=\"white\",font_path=font_path).generate(spam_mesgs)\n",
    "plt.figure(figsize=(10, 5))\n",
    "plt.imshow(spam_wordcloud, interpolation='bilinear')\n",
    "plt.title('Word Cloud for Spam')\n",
    "plt.axis(\"off\")\n",
    "plt.show()"
   ]
  },
  {
   "cell_type": "markdown",
   "id": "f5649879",
   "metadata": {},
   "source": [
    "# MODEL BUILDING AND TRAINING"
   ]
  },
  {
   "cell_type": "code",
   "execution_count": 33,
   "id": "ae945b00",
   "metadata": {},
   "outputs": [],
   "source": [
    "X = final['text']\n",
    "y = final['label']"
   ]
  },
  {
   "cell_type": "code",
   "execution_count": 34,
   "id": "d9b28de2",
   "metadata": {},
   "outputs": [],
   "source": [
    "X_train, X_test, y_train, y_test = train_test_split(X, y, test_size=0.2, random_state=42)"
   ]
  },
  {
   "cell_type": "code",
   "execution_count": 35,
   "id": "d8c9a0f1",
   "metadata": {},
   "outputs": [
    {
     "data": {
      "text/plain": [
       "(4858,)"
      ]
     },
     "execution_count": 35,
     "metadata": {},
     "output_type": "execute_result"
    }
   ],
   "source": [
    "X_train.shape"
   ]
  },
  {
   "cell_type": "code",
   "execution_count": 36,
   "id": "7db9d1d9",
   "metadata": {},
   "outputs": [
    {
     "data": {
      "text/plain": [
       "(4858,)"
      ]
     },
     "execution_count": 36,
     "metadata": {},
     "output_type": "execute_result"
    }
   ],
   "source": [
    "y_train.shape"
   ]
  },
  {
   "cell_type": "code",
   "execution_count": 37,
   "id": "97515c38",
   "metadata": {},
   "outputs": [
    {
     "data": {
      "text/plain": [
       "(1215,)"
      ]
     },
     "execution_count": 37,
     "metadata": {},
     "output_type": "execute_result"
    }
   ],
   "source": [
    "X_test.shape"
   ]
  },
  {
   "cell_type": "code",
   "execution_count": 38,
   "id": "5fb62b7d",
   "metadata": {},
   "outputs": [
    {
     "data": {
      "text/plain": [
       "(1215,)"
      ]
     },
     "execution_count": 38,
     "metadata": {},
     "output_type": "execute_result"
    }
   ],
   "source": [
    "y_test.shape"
   ]
  },
  {
   "cell_type": "code",
   "execution_count": 39,
   "id": "98e87186",
   "metadata": {},
   "outputs": [],
   "source": [
    "tokenizer = tf.keras.preprocessing.text.Tokenizer()\n",
    "tokenizer.fit_on_texts(X_train)\n",
    "vocabulary_size = len(tokenizer.word_index) + 1"
   ]
  },
  {
   "cell_type": "code",
   "execution_count": 40,
   "id": "e290b177",
   "metadata": {},
   "outputs": [],
   "source": [
    "y_train = pd.Series(y_train)\n",
    "y_train_encoded = y_train.factorize()[0]"
   ]
  },
  {
   "cell_type": "code",
   "execution_count": 41,
   "id": "5df551a1",
   "metadata": {},
   "outputs": [
    {
     "data": {
      "text/plain": [
       "(4858,)"
      ]
     },
     "execution_count": 41,
     "metadata": {},
     "output_type": "execute_result"
    }
   ],
   "source": [
    "y_train_encoded.shape"
   ]
  },
  {
   "cell_type": "code",
   "execution_count": 42,
   "id": "2d672f55",
   "metadata": {},
   "outputs": [],
   "source": [
    "y_test = pd.Series(y_test)\n",
    "y_test_encoded = y_test.factorize()[0]"
   ]
  },
  {
   "cell_type": "code",
   "execution_count": 43,
   "id": "d2a42877",
   "metadata": {},
   "outputs": [
    {
     "data": {
      "text/plain": [
       "(1215,)"
      ]
     },
     "execution_count": 43,
     "metadata": {},
     "output_type": "execute_result"
    }
   ],
   "source": [
    "y_test_encoded.shape"
   ]
  },
  {
   "cell_type": "code",
   "execution_count": 44,
   "id": "310df6fb",
   "metadata": {},
   "outputs": [],
   "source": [
    "X_train_encoded = tokenizer.texts_to_sequences(X_train)\n",
    "X_test_encoded = tokenizer.texts_to_sequences(X_test)"
   ]
  },
  {
   "cell_type": "code",
   "execution_count": 45,
   "id": "60d57e58",
   "metadata": {},
   "outputs": [],
   "source": [
    "X_train_padded = tf.keras.preprocessing.sequence.pad_sequences(X_train_encoded, maxlen=100)\n",
    "X_test_padded = tf.keras.preprocessing.sequence.pad_sequences(X_test_encoded, maxlen=100)"
   ]
  },
  {
   "cell_type": "code",
   "execution_count": 46,
   "id": "df622ae7",
   "metadata": {},
   "outputs": [],
   "source": [
    "class Capsule(tf.keras.Model):\n",
    "    def __init__(self, num_capsules, dim_capsule):\n",
    "        super(Capsule, self).__init__()\n",
    "\n",
    "        self.num_capsules = num_capsules\n",
    "        self.dim_capsule = dim_capsule\n",
    "\n",
    "        self.dense = tf.keras.layers.Dense(num_capsules * dim_capsule, activation='relu')\n",
    "\n",
    "    def call(self, inputs):\n",
    "        x = self.dense(inputs)\n",
    "        x = tf.reshape(x, [-1, x.shape[1]])\n",
    "\n",
    "        # Squashing function\n",
    "        x = x / tf.sqrt(tf.reduce_sum(tf.square(x), axis=-1, keepdims=True))\n",
    "\n",
    "        return x\n"
   ]
  },
  {
   "cell_type": "code",
   "execution_count": 47,
   "id": "ef2cd449",
   "metadata": {},
   "outputs": [],
   "source": [
    "inputs = Input(shape=(100,))\n",
    "embedding = Embedding(vocabulary_size, 64)(inputs)\n",
    "# outputs = tf.reshape(embedding, [100, 2])\n",
    "\n",
    "conv1d = Conv1D(filters=64, kernel_size=3, activation='relu')(embedding)\n",
    "# conv1d_2 = Conv1D(filters=64, kernel_size=3, activation='relu')(conv1d)\n",
    "max_pooling1d = MaxPooling1D(pool_size=2)(conv1d)\n",
    "flatten = Flatten()(max_pooling1d)\n",
    "capsule = Capsule(30, 4)(flatten)\n",
    "outputs = Dense(1, activation='sigmoid')(capsule)\n",
    "\n",
    "model_1 = tf.keras.Model(inputs=inputs, outputs=outputs)"
   ]
  },
  {
   "cell_type": "code",
   "execution_count": 48,
   "id": "caf6bf2d",
   "metadata": {},
   "outputs": [],
   "source": [
    "model_1.compile(optimizer='adam', loss='binary_crossentropy', metrics=['accuracy'])\n"
   ]
  },
  {
   "cell_type": "code",
   "execution_count": 49,
   "id": "bdceffb9",
   "metadata": {},
   "outputs": [
    {
     "data": {
      "text/plain": [
       "(4858, 100)"
      ]
     },
     "execution_count": 49,
     "metadata": {},
     "output_type": "execute_result"
    }
   ],
   "source": [
    "X_train_padded.shape"
   ]
  },
  {
   "cell_type": "code",
   "execution_count": 50,
   "id": "e46fb38f",
   "metadata": {},
   "outputs": [
    {
     "data": {
      "text/plain": [
       "(4858,)"
      ]
     },
     "execution_count": 50,
     "metadata": {},
     "output_type": "execute_result"
    }
   ],
   "source": [
    "y_train_encoded.shape"
   ]
  },
  {
   "cell_type": "code",
   "execution_count": 51,
   "id": "c5d4812e",
   "metadata": {},
   "outputs": [
    {
     "name": "stdout",
     "output_type": "stream",
     "text": [
      "[0 0 0 ... 0 1 0]\n"
     ]
    }
   ],
   "source": [
    "print(y_train_encoded)"
   ]
  },
  {
   "cell_type": "markdown",
   "id": "f7d3ed16",
   "metadata": {},
   "source": [
    "### UNBALANCED DATA - CAPSULE NETWORK"
   ]
  },
  {
   "cell_type": "code",
   "execution_count": 52,
   "id": "f9a1812f",
   "metadata": {},
   "outputs": [
    {
     "name": "stdout",
     "output_type": "stream",
     "text": [
      "Epoch 1/10\n",
      "486/486 [==============================] - 18s 32ms/step - loss: 0.2395 - accuracy: 0.9436\n",
      "Epoch 2/10\n",
      "486/486 [==============================] - 15s 31ms/step - loss: 0.0535 - accuracy: 0.9936\n",
      "Epoch 3/10\n",
      "486/486 [==============================] - 15s 31ms/step - loss: 0.0197 - accuracy: 0.9984\n",
      "Epoch 4/10\n",
      "486/486 [==============================] - 15s 31ms/step - loss: 0.0093 - accuracy: 0.9994\n",
      "Epoch 5/10\n",
      "486/486 [==============================] - 15s 31ms/step - loss: 0.0051 - accuracy: 0.9996\n",
      "Epoch 6/10\n",
      "486/486 [==============================] - 15s 31ms/step - loss: 0.0025 - accuracy: 1.0000\n",
      "Epoch 7/10\n",
      "486/486 [==============================] - 15s 31ms/step - loss: 0.0016 - accuracy: 1.0000\n",
      "Epoch 8/10\n",
      "486/486 [==============================] - 15s 31ms/step - loss: 0.0012 - accuracy: 1.0000\n",
      "Epoch 9/10\n",
      "486/486 [==============================] - 15s 31ms/step - loss: 8.3971e-04 - accuracy: 1.0000\n",
      "Epoch 10/10\n",
      "486/486 [==============================] - 15s 31ms/step - loss: 6.1891e-04 - accuracy: 1.0000\n"
     ]
    }
   ],
   "source": [
    "# Train the model\n",
    "cap = model_1.fit(X_train_padded, y_train_encoded, epochs=10, batch_size = 10)"
   ]
  },
  {
   "cell_type": "code",
   "execution_count": 53,
   "id": "8d317851",
   "metadata": {},
   "outputs": [
    {
     "name": "stdout",
     "output_type": "stream",
     "text": [
      "38/38 [==============================] - 1s 8ms/step - loss: 0.0702 - accuracy: 0.9885\n",
      "Test loss: 0.07021614909172058\n",
      "Test accuracy: 0.988477349281311\n"
     ]
    }
   ],
   "source": [
    "loss, accuracy_caps = model_1.evaluate(X_test_padded, y_test_encoded)\n",
    "\n",
    "print('Test loss:', loss)\n",
    "print('Test accuracy:', accuracy_caps)"
   ]
  },
  {
   "cell_type": "code",
   "execution_count": 54,
   "id": "f1e70967",
   "metadata": {},
   "outputs": [
    {
     "data": {
      "image/png": "[encoded data removed]",
      "text/plain": [
       "<Figure size 432x288 with 1 Axes>"
      ]
     },
     "metadata": {
      "needs_background": "light"
     },
     "output_type": "display_data"
    }
   ],
   "source": [
    "accuracy_1 = cap.history['accuracy']\n",
    "loss = cap.history['loss']\n",
    "\n",
    "plt.plot(accuracy_1, label='Accuracy')\n",
    "plt.plot(loss, label='Loss')\n",
    "\n",
    "plt.title('Accuracy and Loss vs. Epochs')\n",
    "plt.xlabel('Epoch')\n",
    "plt.ylabel('Accuracy/Loss')\n",
    "\n",
    "plt.legend()\n",
    "plt.show()\n"
   ]
  },
  {
   "cell_type": "code",
   "execution_count": 56,
   "id": "790846e9",
   "metadata": {},
   "outputs": [
    {
     "name": "stdout",
     "output_type": "stream",
     "text": [
      "38/38 [==============================] - 1s 7ms/step\n",
      "Sample 1: Predicted=[0], Actual=0\n",
      "Sample 2: Predicted=[0], Actual=0\n",
      "Sample 3: Predicted=[1], Actual=1\n",
      "Sample 4: Predicted=[0], Actual=0\n",
      "Sample 5: Predicted=[0], Actual=0\n"
     ]
    }
   ],
   "source": [
    "predictions_1 = model_1.predict(X_test_padded)\n",
    "\n",
    "# Convert the predictions to binary values (0 or 1)\n",
    "binary_predictions = (predictions_1 > 0.5).astype(int)\n",
    "\n",
    "# Print some sample predictions and actual values\n",
    "for i in range(5):\n",
    "    print(f\"Sample {i+1}: Predicted={binary_predictions[i]}, Actual={y_test_encoded[i]}\")"
   ]
  },
  {
   "cell_type": "code",
   "execution_count": 59,
   "id": "dcd35aec",
   "metadata": {},
   "outputs": [
    {
     "data": {
      "image/png": "[encoded data removed]",
      "text/plain": [
       "<Figure size 576x432 with 2 Axes>"
      ]
     },
     "metadata": {
      "needs_background": "light"
     },
     "output_type": "display_data"
    }
   ],
   "source": [
    "# Generate the confusion matrix\n",
    "cm = confusion_matrix(y_test_encoded, binary_predictions)\n",
    "\n",
    "# Create a DataFrame from the confusion matrix\n",
    "cm_df = pd.DataFrame(cm, index=['Actual HAM', 'Actual SPAM'], columns=['Predicted HAM', 'Predicted SPAM'])\n",
    "\n",
    "# Plot the confusion matrix\n",
    "plt.figure(figsize=(8, 6))\n",
    "sns.heatmap(cm_df, annot=True, fmt='d', cmap='Blues')\n",
    "plt.title('Confusion Matrix')\n",
    "plt.xlabel('Predicted Label')\n",
    "plt.ylabel('Actual Label')\n",
    "plt.show()"
   ]
  },
  {
   "cell_type": "markdown",
   "id": "6308db51",
   "metadata": {},
   "source": [
    "PREDICTIONS"
   ]
  },
  {
   "cell_type": "code",
   "execution_count": 60,
   "id": "318c687e",
   "metadata": {},
   "outputs": [],
   "source": [
    "def predict_label(model, tokenizer, message):\n",
    "    # Tokenize and pad the message\n",
    "    encoded_message = tokenizer.texts_to_sequences([message])\n",
    "    padded_message = pad_sequences(encoded_message, maxlen=100, padding='post')\n",
    "\n",
    "    # Predict the label for the message\n",
    "    prediction = model.predict(padded_message)\n",
    "\n",
    "    # Convert the prediction to a binary label (0 or 1)\n",
    "    binary_prediction = 1 if prediction > 0.5 else 0\n",
    "    \n",
    "    final_label = \"spam\" if binary_prediction == 1 else \"ham\"\n",
    "\n",
    "    return final_label"
   ]
  },
  {
   "cell_type": "code",
   "execution_count": 61,
   "id": "d4c1aacb",
   "metadata": {},
   "outputs": [
    {
     "name": "stdout",
     "output_type": "stream",
     "text": [
      "1/1 [==============================] - 0s 55ms/step\n",
      "Predicted label for the message: spam\n"
     ]
    }
   ],
   "source": [
    "message = \"Free entry in 2 a wkly comp to win FA Cup final tkts 21st May 2005. Text FA to 87121 to receive entry question(std txt rate)T&C's apply 08452810075over18's\"\n",
    "\n",
    "predicted_label = predict_label(model_1, tokenizer, message)\n",
    "\n",
    "print(f\"Predicted label for the message: {predicted_label}\")"
   ]
  },
  {
   "cell_type": "code",
   "execution_count": 62,
   "id": "79f19795",
   "metadata": {},
   "outputs": [
    {
     "name": "stdout",
     "output_type": "stream",
     "text": [
      "1/1 [==============================] - 0s 51ms/step\n",
      "Predicted label for the message: spam\n"
     ]
    }
   ],
   "source": [
    "message = \"Free entry in an exhibition to receive lottery ticket of 2000000\"\n",
    "\n",
    "predicted_label = predict_label(model_1, tokenizer, message)\n",
    "\n",
    "print(f\"Predicted label for the message: {predicted_label}\")"
   ]
  },
  {
   "cell_type": "code",
   "execution_count": 63,
   "id": "1cae181d",
   "metadata": {},
   "outputs": [
    {
     "name": "stdout",
     "output_type": "stream",
     "text": [
      "1/1 [==============================] - 0s 54ms/step\n",
      "Predicted label for the message: ham\n"
     ]
    }
   ],
   "source": [
    "message = \"Save me please\"\n",
    "predicted_label = predict_label(model_1,tokenizer,message)\n",
    "print(f\"Predicted label for the message: {predicted_label}\")"
   ]
  },
  {
   "cell_type": "code",
   "execution_count": 64,
   "id": "3d471136",
   "metadata": {},
   "outputs": [
    {
     "name": "stdout",
     "output_type": "stream",
     "text": [
      "1/1 [==============================] - 0s 62ms/step\n",
      "Predicted label for the message: ham\n"
     ]
    }
   ],
   "source": [
    "message = \"hello the plan is on\"\n",
    "predicted_label = predict_label(model_1,tokenizer,message)\n",
    "print(f\"Predicted label for the message: {predicted_label}\")"
   ]
  },
  {
   "cell_type": "code",
   "execution_count": 65,
   "id": "0e9f7838",
   "metadata": {},
   "outputs": [
    {
     "name": "stdout",
     "output_type": "stream",
     "text": [
      "1/1 [==============================] - 0s 50ms/step\n",
      "Predicted label for the message: spam\n"
     ]
    }
   ],
   "source": [
    "message = \"Contact 9495672856 for redemption of your exciting cash price\"\n",
    "predicted_label = predict_label(model_1,tokenizer,message)\n",
    "print(f\"Predicted label for the message: {predicted_label}\")"
   ]
  },
  {
   "cell_type": "code",
   "execution_count": 66,
   "id": "fb6a8ec8",
   "metadata": {},
   "outputs": [
    {
     "name": "stdout",
     "output_type": "stream",
     "text": [
      "              precision    recall  f1-score   support\n",
      "\n",
      "           0       0.99      1.00      0.99       966\n",
      "           1       0.99      0.96      0.97       249\n",
      "\n",
      "    accuracy                           0.99      1215\n",
      "   macro avg       0.99      0.98      0.98      1215\n",
      "weighted avg       0.99      0.99      0.99      1215\n",
      "\n"
     ]
    }
   ],
   "source": [
    "print(classification_report(y_test_encoded,np.around(predictions_1)))"
   ]
  },
  {
   "cell_type": "markdown",
   "id": "4cdcb69d",
   "metadata": {},
   "source": [
    "SMOTE"
   ]
  },
  {
   "cell_type": "code",
   "execution_count": 67,
   "id": "1eaa87f5",
   "metadata": {},
   "outputs": [],
   "source": [
    "from imblearn.over_sampling import SMOTE\n",
    "\n",
    "# Assuming you have X_train_padded and y_train_encoded\n",
    "smote = SMOTE(sampling_strategy='auto', random_state=42)\n",
    "X_train_resampled, y_train_resampled = smote.fit_resample(X_train_padded, y_train_encoded)\n"
   ]
  },
  {
   "cell_type": "code",
   "execution_count": 68,
   "id": "be1c2bdf",
   "metadata": {},
   "outputs": [
    {
     "name": "stdout",
     "output_type": "stream",
     "text": [
      "{0: 3859, 1: 3859}\n"
     ]
    }
   ],
   "source": [
    "unique, counts = np.unique(y_train_resampled, return_counts=True)\n",
    "print(dict(zip(unique, counts)))"
   ]
  },
  {
   "cell_type": "markdown",
   "id": "d8a4e4d0",
   "metadata": {},
   "source": [
    "### BALANCED DATA - CAPSULE NETWORK"
   ]
  },
  {
   "cell_type": "code",
   "execution_count": 69,
   "id": "5e6bb7e5",
   "metadata": {},
   "outputs": [
    {
     "name": "stdout",
     "output_type": "stream",
     "text": [
      "Epoch 1/10\n",
      "772/772 [==============================] - 24s 31ms/step - loss: 0.0679 - accuracy: 0.9785\n",
      "Epoch 2/10\n",
      "772/772 [==============================] - 24s 31ms/step - loss: 0.0094 - accuracy: 0.9981\n",
      "Epoch 3/10\n",
      "772/772 [==============================] - 25s 32ms/step - loss: 0.0035 - accuracy: 0.9995\n",
      "Epoch 4/10\n",
      "772/772 [==============================] - 25s 32ms/step - loss: 9.7795e-04 - accuracy: 0.9997\n",
      "Epoch 5/10\n",
      "772/772 [==============================] - 25s 32ms/step - loss: 4.2365e-04 - accuracy: 1.0000\n",
      "Epoch 6/10\n",
      "772/772 [==============================] - 24s 31ms/step - loss: 2.6267e-04 - accuracy: 1.0000\n",
      "Epoch 7/10\n",
      "772/772 [==============================] - 25s 32ms/step - loss: 1.8054e-04 - accuracy: 1.0000\n",
      "Epoch 8/10\n",
      "772/772 [==============================] - 25s 32ms/step - loss: 1.1839e-04 - accuracy: 1.0000\n",
      "Epoch 9/10\n",
      "772/772 [==============================] - 25s 32ms/step - loss: 7.6119e-05 - accuracy: 1.0000\n",
      "Epoch 10/10\n",
      "772/772 [==============================] - 25s 32ms/step - loss: 4.9097e-05 - accuracy: 1.0000\n"
     ]
    }
   ],
   "source": [
    "b_1 = model_1.fit(X_train_resampled, y_train_resampled, epochs=10, batch_size = 10)"
   ]
  },
  {
   "cell_type": "code",
   "execution_count": 70,
   "id": "162f79ab",
   "metadata": {},
   "outputs": [
    {
     "name": "stdout",
     "output_type": "stream",
     "text": [
      "38/38 [==============================] - 0s 7ms/step - loss: 0.1491 - accuracy: 0.9761\n",
      "Test loss: 0.14907501637935638\n",
      "Test accuracy: 0.9761316776275635\n"
     ]
    }
   ],
   "source": [
    "loss, accuracy_caps = model_1.evaluate(X_test_padded, y_test_encoded)\n",
    "\n",
    "print('Test loss:', loss)\n",
    "print('Test accuracy:', accuracy_caps)"
   ]
  },
  {
   "cell_type": "code",
   "execution_count": 71,
   "id": "dc29a274",
   "metadata": {},
   "outputs": [
    {
     "data": {
      "image/png": "[encoded data removed]",
      "text/plain": [
       "<Figure size 432x288 with 1 Axes>"
      ]
     },
     "metadata": {
      "needs_background": "light"
     },
     "output_type": "display_data"
    }
   ],
   "source": [
    "accuracy_b_1 = b_1.history['accuracy']\n",
    "loss = b_1.history['loss']\n",
    "\n",
    "plt.plot(accuracy_b_1, label='Accuracy')\n",
    "plt.plot(loss, label='Loss')\n",
    "\n",
    "plt.title('Accuracy and Loss vs. Epochs')\n",
    "plt.xlabel('Epoch')\n",
    "plt.ylabel('Accuracy/Loss')\n",
    "\n",
    "plt.legend()\n",
    "plt.show()\n"
   ]
  },
  {
   "cell_type": "markdown",
   "id": "769a51ab",
   "metadata": {},
   "source": [
    "PREDICTIONS"
   ]
  },
  {
   "cell_type": "code",
   "execution_count": 79,
   "id": "96dd33e8",
   "metadata": {},
   "outputs": [
    {
     "name": "stdout",
     "output_type": "stream",
     "text": [
      "38/38 [==============================] - 0s 7ms/step\n",
      "Sample 1: Predicted=[0], Actual=0\n",
      "Sample 2: Predicted=[0], Actual=0\n",
      "Sample 3: Predicted=[1], Actual=1\n",
      "Sample 4: Predicted=[0], Actual=0\n",
      "Sample 5: Predicted=[0], Actual=0\n"
     ]
    }
   ],
   "source": [
    "predictions_b_1 = model_1.predict(X_test_padded)\n",
    "\n",
    "# Convert the predictions to binary values (0 or 1)\n",
    "binary_predictions_b_1 = (predictions_b_1 > 0.5).astype(int)\n",
    "\n",
    "# Print some sample predictions and actual values\n",
    "for i in range(5):\n",
    "    print(f\"Sample {i+1}: Predicted={binary_predictions_b_1[i]}, Actual={y_test_encoded[i]}\")"
   ]
  },
  {
   "cell_type": "code",
   "execution_count": 73,
   "id": "e55b7842",
   "metadata": {},
   "outputs": [
    {
     "data": {
      "image/png": "[encoded data removed]",
      "text/plain": [
       "<Figure size 576x432 with 2 Axes>"
      ]
     },
     "metadata": {
      "needs_background": "light"
     },
     "output_type": "display_data"
    }
   ],
   "source": [
    "# Generate the confusion matrix\n",
    "cm = confusion_matrix(y_test_encoded, binary_predictions_b_1)\n",
    "\n",
    "# Create a DataFrame from the confusion matrix\n",
    "cm_df = pd.DataFrame(cm, index=['Actual HAM', 'Actual SPAM'], columns=['Predicted HAM', 'Predicted SPAM'])\n",
    "\n",
    "# Plot the confusion matrix\n",
    "plt.figure(figsize=(8, 6))\n",
    "sns.heatmap(cm_df, annot=True, fmt='d', cmap='Blues')\n",
    "plt.title('Confusion Matrix')\n",
    "plt.xlabel('Predicted Label')\n",
    "plt.ylabel('Actual Label')\n",
    "plt.show()"
   ]
  },
  {
   "cell_type": "markdown",
   "id": "de4fe4ca",
   "metadata": {},
   "source": [
    "### UNBALANCED - RNN"
   ]
  },
  {
   "cell_type": "code",
   "execution_count": 74,
   "id": "4efb97f5",
   "metadata": {},
   "outputs": [],
   "source": [
    "from keras.models import Sequential\n",
    "from keras.layers import Embedding, LSTM, Dense"
   ]
  },
  {
   "cell_type": "code",
   "execution_count": 77,
   "id": "336b171e",
   "metadata": {},
   "outputs": [
    {
     "name": "stdout",
     "output_type": "stream",
     "text": [
      "Epoch 1/10\n",
      "243/243 [==============================] - 30s 103ms/step - loss: 0.3775 - accuracy: 0.8736 - val_loss: 0.1991 - val_accuracy: 0.9580\n",
      "Epoch 2/10\n",
      "243/243 [==============================] - 25s 101ms/step - loss: 0.1380 - accuracy: 0.9819 - val_loss: 0.1151 - val_accuracy: 0.9704\n",
      "Epoch 3/10\n",
      "243/243 [==============================] - 24s 100ms/step - loss: 0.0568 - accuracy: 0.9959 - val_loss: 0.0836 - val_accuracy: 0.9745\n",
      "Epoch 4/10\n",
      "243/243 [==============================] - 25s 101ms/step - loss: 0.0293 - accuracy: 0.9979 - val_loss: 0.0747 - val_accuracy: 0.9761\n",
      "Epoch 5/10\n",
      "243/243 [==============================] - 24s 97ms/step - loss: 0.0160 - accuracy: 0.9996 - val_loss: 0.0829 - val_accuracy: 0.9745\n",
      "Epoch 6/10\n",
      "243/243 [==============================] - 23s 96ms/step - loss: 0.0104 - accuracy: 0.9996 - val_loss: 0.0861 - val_accuracy: 0.9770\n",
      "Epoch 7/10\n",
      "243/243 [==============================] - 23s 96ms/step - loss: 0.0084 - accuracy: 0.9994 - val_loss: 0.0824 - val_accuracy: 0.9770\n",
      "Epoch 8/10\n",
      "243/243 [==============================] - 23s 96ms/step - loss: 0.0057 - accuracy: 0.9996 - val_loss: 0.0853 - val_accuracy: 0.9761\n",
      "Epoch 9/10\n",
      "243/243 [==============================] - 23s 95ms/step - loss: 0.0044 - accuracy: 0.9996 - val_loss: 0.0922 - val_accuracy: 0.9770\n",
      "Epoch 10/10\n",
      "243/243 [==============================] - 23s 97ms/step - loss: 0.0036 - accuracy: 0.9996 - val_loss: 0.0948 - val_accuracy: 0.9770\n",
      "38/38 [==============================] - 1s 19ms/step - loss: 0.0948 - accuracy: 0.9770\n",
      "Test Loss: 0.09478070586919785\n",
      "Test Accuracy: 0.9769547581672668\n"
     ]
    }
   ],
   "source": [
    "# Define the RNN model\n",
    "model_2 = Sequential()\n",
    "model_2.add(Embedding(vocabulary_size, 100, input_length=100))  # Use 'vocabulary_size' instead of 'len(word_index) + 1'\n",
    "model_2.add(LSTM(5))\n",
    "model_2.add(Dense(1, activation='sigmoid'))\n",
    "\n",
    "# Compile and train the model\n",
    "model_2.compile(loss='binary_crossentropy', optimizer='adam', metrics=['accuracy'])\n",
    "h = model_2.fit(X_train_padded, y_train_encoded, validation_data=(X_test_padded, y_test_encoded), epochs=10, batch_size=20)  # Use 'X_train_padded', 'y_train_encoded', 'X_test_padded', and 'y_test_encoded'\n",
    "\n",
    "# Evaluate the model\n",
    "loss, accuracy_rnn = model_2.evaluate(X_test_padded, y_test_encoded)  # Use 'X_test_padded' and 'y_test_encoded'\n",
    "print('Test Loss:', loss)\n",
    "print('Test Accuracy:', accuracy_rnn)"
   ]
  },
  {
   "cell_type": "code",
   "execution_count": 78,
   "id": "542f82ae",
   "metadata": {},
   "outputs": [
    {
     "data": {
      "image/png": "[encoded data removed]",
      "text/plain": [
       "<Figure size 432x288 with 1 Axes>"
      ]
     },
     "metadata": {
      "needs_background": "light"
     },
     "output_type": "display_data"
    }
   ],
   "source": [
    "accuracy_2 = h.history['accuracy']\n",
    "loss = h.history['loss']\n",
    "\n",
    "plt.plot(accuracy_2, label='Accuracy')\n",
    "plt.plot(loss, label='Loss')\n",
    "\n",
    "plt.title('Accuracy and Loss vs. Epochs')\n",
    "plt.xlabel('Epoch')\n",
    "plt.ylabel('Accuracy/Loss')\n",
    "\n",
    "plt.legend()\n",
    "plt.show()"
   ]
  },
  {
   "cell_type": "markdown",
   "id": "e4db635b",
   "metadata": {},
   "source": [
    "PREDICTIONS"
   ]
  },
  {
   "cell_type": "code",
   "execution_count": 80,
   "id": "bd036b69",
   "metadata": {},
   "outputs": [
    {
     "name": "stdout",
     "output_type": "stream",
     "text": [
      "38/38 [==============================] - 2s 17ms/step\n",
      "Sample 1: Predicted=[0], Actual=0\n",
      "Sample 2: Predicted=[0], Actual=0\n",
      "Sample 3: Predicted=[1], Actual=1\n",
      "Sample 4: Predicted=[0], Actual=0\n",
      "Sample 5: Predicted=[0], Actual=0\n"
     ]
    }
   ],
   "source": [
    "predictions_2 = model_2.predict(X_test_padded)\n",
    "\n",
    "binary_predictions_2 = (predictions_2 > 0.5).astype(int)\n",
    "\n",
    "# Print some sample predictions and actual values\n",
    "for i in range(5):\n",
    "    print(f\"Sample {i+1}: Predicted={binary_predictions_2[i]}, Actual={y_test_encoded[i]}\")\n"
   ]
  },
  {
   "cell_type": "code",
   "execution_count": 81,
   "id": "ddf0e8d7",
   "metadata": {},
   "outputs": [
    {
     "data": {
      "image/png": "[encoded data removed]",
      "text/plain": [
       "<Figure size 576x432 with 2 Axes>"
      ]
     },
     "metadata": {
      "needs_background": "light"
     },
     "output_type": "display_data"
    }
   ],
   "source": [
    "# Generate the confusion matrix\n",
    "cm = confusion_matrix(y_test_encoded, binary_predictions_2)\n",
    "\n",
    "# Create a DataFrame from the confusion matrix\n",
    "cm_df = pd.DataFrame(cm, index=['Actual HAM', 'Actual SPAM'], columns=['Predicted HAM', 'Predicted SPAM'])\n",
    "\n",
    "# Plot the confusion matrix\n",
    "plt.figure(figsize=(8, 6))\n",
    "sns.heatmap(cm_df, annot=True, fmt='d', cmap='Blues')\n",
    "plt.title('Confusion Matrix')\n",
    "plt.xlabel('Predicted Label')\n",
    "plt.ylabel('Actual Label')\n",
    "plt.show()"
   ]
  },
  {
   "cell_type": "markdown",
   "id": "e86e4faa",
   "metadata": {},
   "source": [
    "### BALANCED DATA - RNN"
   ]
  },
  {
   "cell_type": "code",
   "execution_count": 82,
   "id": "4343555f",
   "metadata": {},
   "outputs": [
    {
     "name": "stdout",
     "output_type": "stream",
     "text": [
      "Epoch 1/10\n",
      "242/242 [==============================] - 24s 100ms/step - loss: 0.1142 - accuracy: 0.9650 - val_loss: 0.0799 - val_accuracy: 0.9720\n",
      "Epoch 2/10\n",
      "242/242 [==============================] - 24s 98ms/step - loss: 0.0186 - accuracy: 0.9959 - val_loss: 0.0915 - val_accuracy: 0.9704\n",
      "Epoch 3/10\n",
      "242/242 [==============================] - 24s 98ms/step - loss: 0.0078 - accuracy: 0.9987 - val_loss: 0.0865 - val_accuracy: 0.9745\n",
      "Epoch 4/10\n",
      "242/242 [==============================] - 24s 100ms/step - loss: 0.0048 - accuracy: 0.9994 - val_loss: 0.0818 - val_accuracy: 0.9753\n",
      "Epoch 5/10\n",
      "242/242 [==============================] - 24s 100ms/step - loss: 0.0036 - accuracy: 0.9995 - val_loss: 0.0880 - val_accuracy: 0.9728\n",
      "Epoch 6/10\n",
      "242/242 [==============================] - 24s 99ms/step - loss: 0.0029 - accuracy: 0.9996 - val_loss: 0.0891 - val_accuracy: 0.9737\n",
      "Epoch 7/10\n",
      "242/242 [==============================] - 24s 100ms/step - loss: 0.0023 - accuracy: 0.9997 - val_loss: 0.0897 - val_accuracy: 0.9745\n",
      "Epoch 8/10\n",
      "242/242 [==============================] - 24s 99ms/step - loss: 0.0019 - accuracy: 0.9997 - val_loss: 0.0913 - val_accuracy: 0.9745\n",
      "Epoch 9/10\n",
      "242/242 [==============================] - 24s 100ms/step - loss: 0.0016 - accuracy: 1.0000 - val_loss: 0.0924 - val_accuracy: 0.9753\n",
      "Epoch 10/10\n",
      "242/242 [==============================] - 24s 98ms/step - loss: 0.0014 - accuracy: 1.0000 - val_loss: 0.0953 - val_accuracy: 0.9761\n"
     ]
    }
   ],
   "source": [
    "b_2 = model_2.fit(X_train_resampled, y_train_resampled, validation_data=(X_test_padded, y_test_encoded), epochs=10, batch_size=32)"
   ]
  },
  {
   "cell_type": "code",
   "execution_count": 83,
   "id": "39406c69",
   "metadata": {},
   "outputs": [
    {
     "name": "stdout",
     "output_type": "stream",
     "text": [
      "38/38 [==============================] - 1s 19ms/step - loss: 0.0953 - accuracy: 0.9761\n",
      "Test Loss: 0.09530740231275558\n",
      "Test Accuracy: 0.9761316776275635\n"
     ]
    }
   ],
   "source": [
    "loss, accuracy_rnn = model_2.evaluate(X_test_padded, y_test_encoded)  # Use 'X_test_padded' and 'y_test_encoded'\n",
    "print('Test Loss:', loss)\n",
    "print('Test Accuracy:', accuracy_rnn)"
   ]
  },
  {
   "cell_type": "code",
   "execution_count": 84,
   "id": "660d97f9",
   "metadata": {},
   "outputs": [
    {
     "data": {
      "image/png": "[encoded data removed]",
      "text/plain": [
       "<Figure size 432x288 with 1 Axes>"
      ]
     },
     "metadata": {
      "needs_background": "light"
     },
     "output_type": "display_data"
    }
   ],
   "source": [
    "accuracy_b_2 = b_2.history['accuracy']\n",
    "loss = b_2.history['loss']\n",
    "\n",
    "plt.plot(accuracy_b_2, label='Accuracy')\n",
    "plt.plot(loss, label='Loss')\n",
    "\n",
    "plt.title('Accuracy and Loss vs. Epochs')\n",
    "plt.xlabel('Epoch')\n",
    "plt.ylabel('Accuracy/Loss')\n",
    "\n",
    "plt.legend()\n",
    "plt.show()\n"
   ]
  },
  {
   "cell_type": "markdown",
   "id": "6ef5deb4",
   "metadata": {},
   "source": [
    "PREDICTIONS"
   ]
  },
  {
   "cell_type": "code",
   "execution_count": 85,
   "id": "d6892943",
   "metadata": {},
   "outputs": [
    {
     "name": "stdout",
     "output_type": "stream",
     "text": [
      "38/38 [==============================] - 1s 18ms/step\n",
      "Sample 1: Predicted=[0], Actual=0\n",
      "Sample 2: Predicted=[0], Actual=0\n",
      "Sample 3: Predicted=[1], Actual=1\n",
      "Sample 4: Predicted=[0], Actual=0\n",
      "Sample 5: Predicted=[0], Actual=0\n"
     ]
    }
   ],
   "source": [
    "predictions_b_2 = model_2.predict(X_test_padded)\n",
    "\n",
    "binary_predictions_b_2 = (predictions_b_2 > 0.5).astype(int)\n",
    "\n",
    "# Print some sample predictions and actual values\n",
    "for i in range(5):\n",
    "    print(f\"Sample {i+1}: Predicted={binary_predictions_b_2[i]}, Actual={y_test_encoded[i]}\")\n"
   ]
  },
  {
   "cell_type": "code",
   "execution_count": 86,
   "id": "c5a201a6",
   "metadata": {},
   "outputs": [
    {
     "data": {
      "image/png": "[encoded data removed]",
      "text/plain": [
       "<Figure size 576x432 with 2 Axes>"
      ]
     },
     "metadata": {
      "needs_background": "light"
     },
     "output_type": "display_data"
    }
   ],
   "source": [
    "# Generate the confusion matrix\n",
    "cm = confusion_matrix(y_test_encoded, binary_predictions_b_2)\n",
    "\n",
    "# Create a DataFrame from the confusion matrix\n",
    "cm_df = pd.DataFrame(cm, index=['Actual HAM', 'Actual SPAM'], columns=['Predicted HAM', 'Predicted SPAM'])\n",
    "\n",
    "# Plot the confusion matrix\n",
    "plt.figure(figsize=(8, 6))\n",
    "sns.heatmap(cm_df, annot=True, fmt='d', cmap='Blues')\n",
    "plt.title('Confusion Matrix')\n",
    "plt.xlabel('Predicted Label')\n",
    "plt.ylabel('Actual Label')\n",
    "plt.show()"
   ]
  },
  {
   "cell_type": "markdown",
   "id": "217d9efb",
   "metadata": {},
   "source": [
    "### UNBALANCED - CNN"
   ]
  },
  {
   "cell_type": "code",
   "execution_count": 87,
   "id": "ddb47885",
   "metadata": {},
   "outputs": [],
   "source": [
    "from keras.layers import Embedding, Conv1D, GlobalMaxPooling1D, Dense"
   ]
  },
  {
   "cell_type": "code",
   "execution_count": 92,
   "id": "c2a8f44f",
   "metadata": {},
   "outputs": [
    {
     "name": "stdout",
     "output_type": "stream",
     "text": [
      "Epoch 1/10\n",
      "94/94 [==============================] - 9s 72ms/step - loss: 0.3675 - accuracy: 0.8473 - val_loss: 0.1015 - val_accuracy: 0.9753\n",
      "Epoch 2/10\n",
      "94/94 [==============================] - 6s 69ms/step - loss: 0.0653 - accuracy: 0.9804 - val_loss: 0.0433 - val_accuracy: 0.9835\n",
      "Epoch 3/10\n",
      "94/94 [==============================] - 6s 69ms/step - loss: 0.0220 - accuracy: 0.9946 - val_loss: 0.0385 - val_accuracy: 0.9868\n",
      "Epoch 4/10\n",
      "94/94 [==============================] - 6s 68ms/step - loss: 0.0079 - accuracy: 0.9979 - val_loss: 0.0396 - val_accuracy: 0.9868\n",
      "Epoch 5/10\n",
      "94/94 [==============================] - 6s 68ms/step - loss: 0.0026 - accuracy: 1.0000 - val_loss: 0.0437 - val_accuracy: 0.9852\n",
      "Epoch 6/10\n",
      "94/94 [==============================] - 6s 69ms/step - loss: 0.0014 - accuracy: 1.0000 - val_loss: 0.0441 - val_accuracy: 0.9852\n",
      "Epoch 7/10\n",
      "94/94 [==============================] - 6s 68ms/step - loss: 8.3808e-04 - accuracy: 1.0000 - val_loss: 0.0476 - val_accuracy: 0.9852\n",
      "Epoch 8/10\n",
      "94/94 [==============================] - 6s 69ms/step - loss: 5.8926e-04 - accuracy: 1.0000 - val_loss: 0.0491 - val_accuracy: 0.9852\n",
      "Epoch 9/10\n",
      "94/94 [==============================] - 6s 68ms/step - loss: 4.3926e-04 - accuracy: 1.0000 - val_loss: 0.0500 - val_accuracy: 0.9852\n",
      "Epoch 10/10\n",
      "94/94 [==============================] - 6s 68ms/step - loss: 3.3875e-04 - accuracy: 1.0000 - val_loss: 0.0507 - val_accuracy: 0.9852\n"
     ]
    }
   ],
   "source": [
    "# Define the CNN model\n",
    "model_3 = Sequential()\n",
    "model_3.add(Embedding(vocabulary_size, 100, input_length=100))\n",
    "model_3.add(Conv1D(100, 5, activation='relu'))\n",
    "model_3.add(GlobalMaxPooling1D())\n",
    "model_3.add(Dense(1, activation='sigmoid'))\n",
    "\n",
    "# Compile and train the model\n",
    "model_3.compile(loss='binary_crossentropy', optimizer='adam', metrics=['accuracy'])\n",
    "c = model_3.fit(X_train_padded, y_train_encoded, validation_data=(X_test_padded, y_test_encoded), epochs=10, batch_size=52)  # Use 'X_train_padded', 'y_train_encoded', 'X_test_padded', and 'y_test_encoded'\n"
   ]
  },
  {
   "cell_type": "code",
   "execution_count": 93,
   "id": "6da6a52d",
   "metadata": {},
   "outputs": [
    {
     "name": "stdout",
     "output_type": "stream",
     "text": [
      "38/38 [==============================] - 0s 11ms/step - loss: 0.0507 - accuracy: 0.9852\n",
      "Test Loss: 0.05066303536295891\n",
      "Test Accuracy: 0.9851852059364319\n"
     ]
    }
   ],
   "source": [
    "# Evaluate the model\n",
    "loss, accuracy_cnn = model_3.evaluate(X_test_padded, y_test_encoded)  # Use 'X_test_padded' and 'y_test_encoded'\n",
    "print('Test Loss:', loss)\n",
    "print('Test Accuracy:', accuracy_cnn)"
   ]
  },
  {
   "cell_type": "code",
   "execution_count": 94,
   "id": "8c2f310a",
   "metadata": {},
   "outputs": [
    {
     "data": {
      "image/png": "[encoded data removed]",
      "text/plain": [
       "<Figure size 432x288 with 1 Axes>"
      ]
     },
     "metadata": {
      "needs_background": "light"
     },
     "output_type": "display_data"
    }
   ],
   "source": [
    "accuracy_3 = c.history['accuracy']\n",
    "loss = c.history['loss']\n",
    "\n",
    "plt.plot(accuracy_3, label='Accuracy')\n",
    "plt.plot(loss, label='Loss')\n",
    "\n",
    "plt.title('Accuracy and Loss vs. Epochs')\n",
    "plt.xlabel('Epoch')\n",
    "plt.ylabel('Accuracy/Loss')\n",
    "\n",
    "plt.legend()\n",
    "plt.show()"
   ]
  },
  {
   "cell_type": "markdown",
   "id": "9d8fe9dc",
   "metadata": {},
   "source": [
    "PREDICTIONS"
   ]
  },
  {
   "cell_type": "code",
   "execution_count": 95,
   "id": "774e89d4",
   "metadata": {},
   "outputs": [
    {
     "name": "stdout",
     "output_type": "stream",
     "text": [
      "38/38 [==============================] - 1s 11ms/step\n",
      "Sample 1: Predicted=[0], Actual=0\n",
      "Sample 2: Predicted=[0], Actual=0\n",
      "Sample 3: Predicted=[1], Actual=1\n",
      "Sample 4: Predicted=[0], Actual=0\n",
      "Sample 5: Predicted=[0], Actual=0\n"
     ]
    }
   ],
   "source": [
    "predictions_3 = model_3.predict(X_test_padded)\n",
    "\n",
    "binary_predictions_3 = (predictions_3 > 0.5).astype(int)\n",
    "\n",
    "# Print some sample predictions and actual values\n",
    "for i in range(5):\n",
    "    print(f\"Sample {i+1}: Predicted={binary_predictions_3[i]}, Actual={y_test_encoded[i]}\")\n"
   ]
  },
  {
   "cell_type": "code",
   "execution_count": 96,
   "id": "1a1d7361",
   "metadata": {},
   "outputs": [
    {
     "data": {
      "image/png": "[encoded data removed]",
      "text/plain": [
       "<Figure size 576x432 with 2 Axes>"
      ]
     },
     "metadata": {
      "needs_background": "light"
     },
     "output_type": "display_data"
    }
   ],
   "source": [
    "# Generate the confusion matrix\n",
    "cm = confusion_matrix(y_test_encoded, binary_predictions_3)\n",
    "\n",
    "# Create a DataFrame from the confusion matrix\n",
    "cm_df = pd.DataFrame(cm, index=['Actual HAM', 'Actual SPAM'], columns=['Predicted HAM', 'Predicted SPAM'])\n",
    "\n",
    "# Plot the confusion matrix\n",
    "plt.figure(figsize=(8, 6))\n",
    "sns.heatmap(cm_df, annot=True, fmt='d', cmap='Blues')\n",
    "plt.title('Confusion Matrix')\n",
    "plt.xlabel('Predicted Label')\n",
    "plt.ylabel('Actual Label')\n",
    "plt.show()"
   ]
  },
  {
   "cell_type": "markdown",
   "id": "4f72bd21",
   "metadata": {},
   "source": [
    "### BALANCED - CNN"
   ]
  },
  {
   "cell_type": "code",
   "execution_count": 97,
   "id": "74d4a892",
   "metadata": {},
   "outputs": [
    {
     "name": "stdout",
     "output_type": "stream",
     "text": [
      "Epoch 1/10\n",
      "121/121 [==============================] - 9s 73ms/step - loss: 0.1212 - accuracy: 0.9607 - val_loss: 0.1083 - val_accuracy: 0.9663\n",
      "Epoch 2/10\n",
      "121/121 [==============================] - 9s 72ms/step - loss: 0.0153 - accuracy: 0.9959 - val_loss: 0.0946 - val_accuracy: 0.9695\n",
      "Epoch 3/10\n",
      "121/121 [==============================] - 9s 72ms/step - loss: 0.0050 - accuracy: 0.9992 - val_loss: 0.0928 - val_accuracy: 0.9704\n",
      "Epoch 4/10\n",
      "121/121 [==============================] - 9s 73ms/step - loss: 0.0033 - accuracy: 0.9994 - val_loss: 0.0905 - val_accuracy: 0.9728\n",
      "Epoch 5/10\n",
      "121/121 [==============================] - 9s 73ms/step - loss: 0.0023 - accuracy: 0.9995 - val_loss: 0.0938 - val_accuracy: 0.9728\n",
      "Epoch 6/10\n",
      "121/121 [==============================] - 9s 73ms/step - loss: 0.0018 - accuracy: 0.9996 - val_loss: 0.0879 - val_accuracy: 0.9761\n",
      "Epoch 7/10\n",
      "121/121 [==============================] - 9s 72ms/step - loss: 0.0012 - accuracy: 0.9997 - val_loss: 0.0887 - val_accuracy: 0.9770\n",
      "Epoch 8/10\n",
      "121/121 [==============================] - 9s 73ms/step - loss: 7.4172e-04 - accuracy: 0.9999 - val_loss: 0.0857 - val_accuracy: 0.9786\n",
      "Epoch 9/10\n",
      "121/121 [==============================] - 9s 71ms/step - loss: 6.3025e-04 - accuracy: 0.9999 - val_loss: 0.0877 - val_accuracy: 0.9786\n",
      "Epoch 10/10\n",
      "121/121 [==============================] - 9s 72ms/step - loss: 5.4860e-04 - accuracy: 0.9999 - val_loss: 0.0869 - val_accuracy: 0.9786\n"
     ]
    }
   ],
   "source": [
    "b_3 = model_3.fit(X_train_resampled, y_train_resampled, validation_data=(X_test_padded, y_test_encoded), epochs=10, batch_size=64)"
   ]
  },
  {
   "cell_type": "code",
   "execution_count": 98,
   "id": "92d23038",
   "metadata": {},
   "outputs": [
    {
     "name": "stdout",
     "output_type": "stream",
     "text": [
      "38/38 [==============================] - 0s 12ms/step - loss: 0.0869 - accuracy: 0.9786\n",
      "Test Loss: 0.08690835535526276\n",
      "Test Accuracy: 0.978600800037384\n"
     ]
    }
   ],
   "source": [
    "# Evaluate the model\n",
    "loss, accuracy_cnn = model_3.evaluate(X_test_padded, y_test_encoded)  # Use 'X_test_padded' and 'y_test_encoded'\n",
    "print('Test Loss:', loss)\n",
    "print('Test Accuracy:', accuracy_cnn)"
   ]
  },
  {
   "cell_type": "code",
   "execution_count": 99,
   "id": "c80312ed",
   "metadata": {},
   "outputs": [
    {
     "data": {
      "image/png": "[encoded data removed]",
      "text/plain": [
       "<Figure size 432x288 with 1 Axes>"
      ]
     },
     "metadata": {
      "needs_background": "light"
     },
     "output_type": "display_data"
    }
   ],
   "source": [
    "accuracy_b_3 = b_3.history['accuracy']\n",
    "loss = b_3.history['loss']\n",
    "\n",
    "plt.plot(accuracy_b_3, label='Accuracy')\n",
    "plt.plot(loss, label='Loss')\n",
    "\n",
    "plt.title('Accuracy and Loss vs. Epochs')\n",
    "plt.xlabel('Epoch')\n",
    "plt.ylabel('Accuracy/Loss')\n",
    "\n",
    "plt.legend()\n",
    "plt.show()\n"
   ]
  },
  {
   "cell_type": "markdown",
   "id": "3087189c",
   "metadata": {},
   "source": [
    "PREDICTIONS"
   ]
  },
  {
   "cell_type": "code",
   "execution_count": 100,
   "id": "9d5b5833",
   "metadata": {},
   "outputs": [
    {
     "name": "stdout",
     "output_type": "stream",
     "text": [
      "38/38 [==============================] - 0s 11ms/step\n",
      "Sample 1: Predicted=[0], Actual=0\n",
      "Sample 2: Predicted=[0], Actual=0\n",
      "Sample 3: Predicted=[1], Actual=1\n",
      "Sample 4: Predicted=[0], Actual=0\n",
      "Sample 5: Predicted=[0], Actual=0\n"
     ]
    }
   ],
   "source": [
    "predictions_b_3 = model_3.predict(X_test_padded)\n",
    "\n",
    "binary_predictions_b_3 = (predictions_b_3 > 0.5).astype(int)\n",
    "\n",
    "# Print some sample predictions and actual values\n",
    "for i in range(5):\n",
    "    print(f\"Sample {i+1}: Predicted={binary_predictions_b_3[i]}, Actual={y_test_encoded[i]}\")\n"
   ]
  },
  {
   "cell_type": "code",
   "execution_count": 101,
   "id": "0d2c7d18",
   "metadata": {},
   "outputs": [
    {
     "data": {
      "image/png": "[encoded data removed]",
      "text/plain": [
       "<Figure size 576x432 with 2 Axes>"
      ]
     },
     "metadata": {
      "needs_background": "light"
     },
     "output_type": "display_data"
    }
   ],
   "source": [
    "# Generate the confusion matrix\n",
    "cm = confusion_matrix(y_test_encoded, binary_predictions_b_3)\n",
    "\n",
    "# Create a DataFrame from the confusion matrix\n",
    "cm_df = pd.DataFrame(cm, index=['Actual HAM', 'Actual SPAM'], columns=['Predicted HAM', 'Predicted SPAM'])\n",
    "\n",
    "# Plot the confusion matrix\n",
    "plt.figure(figsize=(8, 6))\n",
    "sns.heatmap(cm_df, annot=True, fmt='d', cmap='Blues')\n",
    "plt.title('Confusion Matrix')\n",
    "plt.xlabel('Predicted Label')\n",
    "plt.ylabel('Actual Label')\n",
    "plt.show()"
   ]
  },
  {
   "cell_type": "markdown",
   "id": "8a2dc763",
   "metadata": {},
   "source": [
    "### CLASSIFICATION REPORTS"
   ]
  },
  {
   "cell_type": "code",
   "execution_count": 102,
   "id": "749a0f5b",
   "metadata": {},
   "outputs": [
    {
     "name": "stdout",
     "output_type": "stream",
     "text": [
      "38/38 [==============================] - 1s 18ms/step\n",
      "              precision    recall  f1-score   support\n",
      "\n",
      "           0       0.99      0.98      0.98       966\n",
      "           1       0.92      0.97      0.94       249\n",
      "\n",
      "    accuracy                           0.98      1215\n",
      "   macro avg       0.95      0.97      0.96      1215\n",
      "weighted avg       0.98      0.98      0.98      1215\n",
      "\n"
     ]
    }
   ],
   "source": [
    "#RNN\n",
    "predictions_2 = model_2.predict(X_test_padded)\n",
    "print(classification_report(y_test_encoded,np.around(predictions_2)))"
   ]
  },
  {
   "cell_type": "code",
   "execution_count": 103,
   "id": "593a1a63",
   "metadata": {},
   "outputs": [
    {
     "name": "stdout",
     "output_type": "stream",
     "text": [
      "38/38 [==============================] - 0s 11ms/step\n",
      "              precision    recall  f1-score   support\n",
      "\n",
      "           0       0.99      0.98      0.99       966\n",
      "           1       0.92      0.98      0.95       249\n",
      "\n",
      "    accuracy                           0.98      1215\n",
      "   macro avg       0.96      0.98      0.97      1215\n",
      "weighted avg       0.98      0.98      0.98      1215\n",
      "\n"
     ]
    }
   ],
   "source": [
    "#CNN\n",
    "predictions_3 = model_3.predict(X_test_padded)\n",
    "print(classification_report(y_test_encoded,np.around(predictions_3)))"
   ]
  },
  {
   "cell_type": "code",
   "execution_count": 104,
   "id": "2b5b55f8",
   "metadata": {},
   "outputs": [
    {
     "name": "stdout",
     "output_type": "stream",
     "text": [
      "              precision    recall  f1-score   support\n",
      "\n",
      "           0       0.99      1.00      0.99       966\n",
      "           1       0.99      0.96      0.97       249\n",
      "\n",
      "    accuracy                           0.99      1215\n",
      "   macro avg       0.99      0.98      0.98      1215\n",
      "weighted avg       0.99      0.99      0.99      1215\n",
      "\n"
     ]
    }
   ],
   "source": [
    "#CapsNet\n",
    "print(classification_report(y_test_encoded,np.around(predictions_1)))"
   ]
  },
  {
   "cell_type": "markdown",
   "id": "851302b7",
   "metadata": {},
   "source": [
    "### COMBINED TEST ACCURACIES OF UNBALANCED DATA"
   ]
  },
  {
   "cell_type": "code",
   "execution_count": 105,
   "id": "b8783784",
   "metadata": {},
   "outputs": [
    {
     "data": {
      "image/png": "[encoded data removed]",
      "text/plain": [
       "<Figure size 432x288 with 1 Axes>"
      ]
     },
     "metadata": {
      "needs_background": "light"
     },
     "output_type": "display_data"
    }
   ],
   "source": [
    "plt.plot(accuracy_1, label='CapsNet')\n",
    "plt.plot(accuracy_2, label='RNN')\n",
    "plt.plot(accuracy_3, label='CNN')\n",
    "\n",
    "plt.title(\"Combined Accuracies\")\n",
    "\n",
    "plt.legend()\n",
    "plt.show()"
   ]
  },
  {
   "cell_type": "markdown",
   "id": "c703ca89",
   "metadata": {},
   "source": [
    "### COMBINED TEST ACCURACIES OF BALANCED DATA"
   ]
  },
  {
   "cell_type": "code",
   "execution_count": 106,
   "id": "d9ff05d6",
   "metadata": {},
   "outputs": [
    {
     "data": {
      "image/png": "[encoded data removed]",
      "text/plain": [
       "<Figure size 432x288 with 1 Axes>"
      ]
     },
     "metadata": {
      "needs_background": "light"
     },
     "output_type": "display_data"
    }
   ],
   "source": [
    "plt.plot(accuracy_b_1, label='CapsNet')\n",
    "plt.plot(accuracy_b_2, label='RNN')\n",
    "plt.plot(accuracy_b_3, label='CNN')\n",
    "\n",
    "plt.title(\"Combined Accuracies\")\n",
    "\n",
    "plt.legend()\n",
    "plt.show()"
   ]
  }
 ],
 "metadata": {
  "kernelspec": {
   "display_name": "Python 3",
   "language": "python",
   "name": "python3"
  },
  "language_info": {
   "codemirror_mode": {
    "name": "ipython",
    "version": 3
   },
   "file_extension": ".py",
   "mimetype": "text/x-python",
   "name": "python",
   "nbconvert_exporter": "python",
   "pygments_lexer": "ipython3",
   "version": "3.8.8"
  }
 },
 "nbformat": 4,
 "nbformat_minor": 5
}
